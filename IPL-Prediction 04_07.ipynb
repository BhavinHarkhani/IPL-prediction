{
  "metadata": {
    "kernelspec": {
      "language": "python",
      "display_name": "Python 3",
      "name": "python3"
    },
    "language_info": {
      "name": "python",
      "version": "3.10.13",
      "mimetype": "text/x-python",
      "codemirror_mode": {
        "name": "ipython",
        "version": 3
      },
      "pygments_lexer": "ipython3",
      "nbconvert_exporter": "python",
      "file_extension": ".py"
    },
    "kaggle": {
      "accelerator": "nvidiaTeslaT4",
      "dataSources": [
        {
          "sourceId": 8637500,
          "sourceType": "datasetVersion",
          "datasetId": 990900
        }
      ],
      "dockerImageVersionId": 30732,
      "isInternetEnabled": false,
      "language": "python",
      "sourceType": "notebook",
      "isGpuEnabled": true
    },
    "colab": {
      "provenance": []
    }
  },
  "nbformat_minor": 0,
  "nbformat": 4,
  "cells": [
    {
      "cell_type": "markdown",
      "source": [
        "# **IPL Data Analysis and 2025 winner prediction model**\n",
        "\n",
        "This notebook presents a comprehensive analysis of Indian Premier League (IPL) data from the inception of the league in 2008 through to the most recent season in 2024, with the goal of uncovering key insights, trends, and patterns within the data. It includes data collection and preprocessing steps, exploratory data analysis (EDA) to visualize key metrics such as win rates, player performance, and team statistics, and statistical insights to identify significant factors influencing match outcomes. The notebook then introduces a Random Forest Classification model to predict the winner of the 2025 IPL season, explaining the model’s features, training, validation, and performance evaluation. The results section presents the model’s predictions for the 2025 season, discusses the potential strengths and limitations of the model, and provides insights into the predicted performance of teams and key players. The primary objective is to leverage historical IPL data to build a predictive model that forecasts future match outcomes, offering a data-driven prediction for the 2025 IPL winner while illustrating the application of machine learning techniques to real-world sports data.\n"
      ],
      "metadata": {
        "id": "bvV_NdwjPl7g"
      }
    },
    {
      "cell_type": "code",
      "source": [
        "# This Python 3 environment comes with many helpful analytics libraries installed\n",
        "# It is defined by the kaggle/python Docker image: https://github.com/kaggle/docker-python\n",
        "\n",
        "\n",
        "import numpy as np # linear algebra\n",
        "import pandas as pd # data processing, CSV file I/O (e.g. pd.read_csv)\n",
        "import os\n",
        "for dirname, _, filenames in os.walk('/kaggle/input'):\n",
        "    for filename in filenames:\n",
        "        print(os.path.join(dirname, filename))\n",
        "\n"
      ],
      "metadata": {
        "_uuid": "8f2839f25d086af736a60e9eeb907d3b93b6e0e5",
        "_cell_guid": "b1076dfc-b9ad-4769-8c92-a6c4dae69d19",
        "execution": {
          "iopub.status.busy": "2024-06-12T18:29:59.604052Z",
          "iopub.execute_input": "2024-06-12T18:29:59.604348Z",
          "iopub.status.idle": "2024-06-12T18:30:00.817548Z",
          "shell.execute_reply.started": "2024-06-12T18:29:59.604322Z",
          "shell.execute_reply": "2024-06-12T18:30:00.816504Z"
        },
        "trusted": true,
        "id": "yb-VUwiSPl7j"
      },
      "execution_count": 57,
      "outputs": []
    },
    {
      "cell_type": "code",
      "source": [
        "# Read the CSV files into Pandas DataFrames\n",
        "deliveries = pd.read_csv('/content/deliveries.csv')\n",
        "matches = pd.read_csv('/content/matches.csv')\n",
        "\n",
        "# Display the first 5 rows of each DataFrame\n",
        "print(\"First 5 rows of deliveries:\")\n",
        "print(deliveries.head().to_markdown(index=False, numalign=\"left\", stralign=\"left\"))\n",
        "\n",
        "print(\"\\nFirst 5 rows of matches:\")\n",
        "print(matches.head().to_markdown(index=False, numalign=\"left\", stralign=\"left\"))\n",
        "\n",
        "# Print the column names and their data types for each DataFrame\n",
        "print(\"\\nInformation of deliveries:\")\n",
        "print(deliveries.info())\n",
        "\n",
        "print(\"\\nInformation of matches:\")\n",
        "print(matches.info())\n"
      ],
      "metadata": {
        "execution": {
          "iopub.status.busy": "2024-06-12T18:30:00.819307Z",
          "iopub.execute_input": "2024-06-12T18:30:00.819728Z",
          "iopub.status.idle": "2024-06-12T18:30:01.986786Z",
          "shell.execute_reply.started": "2024-06-12T18:30:00.819698Z",
          "shell.execute_reply": "2024-06-12T18:30:01.985767Z"
        },
        "trusted": true,
        "colab": {
          "base_uri": "https://localhost:8080/",
          "height": 0
        },
        "id": "EV0RbfFgPl7k",
        "outputId": "ce6a7be9-fec4-4cda-e564-9625e56b3b5d"
      },
      "execution_count": 58,
      "outputs": [
        {
          "output_type": "stream",
          "name": "stdout",
          "text": [
            "First 5 rows of deliveries:\n",
            "| match_id   | inning   | batting_team          | bowling_team                | over   | ball   | batter      | bowler   | non_striker   | batsman_runs   | extra_runs   | total_runs   | extras_type   | is_wicket   | player_dismissed   | dismissal_kind   | fielder   |\n",
            "|:-----------|:---------|:----------------------|:----------------------------|:-------|:-------|:------------|:---------|:--------------|:---------------|:-------------|:-------------|:--------------|:------------|:-------------------|:-----------------|:----------|\n",
            "| 335982     | 1        | Kolkata Knight Riders | Royal Challengers Bangalore | 0      | 1      | SC Ganguly  | P Kumar  | BB McCullum   | 0              | 1            | 1            | legbyes       | 0           | nan                | nan              | nan       |\n",
            "| 335982     | 1        | Kolkata Knight Riders | Royal Challengers Bangalore | 0      | 2      | BB McCullum | P Kumar  | SC Ganguly    | 0              | 0            | 0            | nan           | 0           | nan                | nan              | nan       |\n",
            "| 335982     | 1        | Kolkata Knight Riders | Royal Challengers Bangalore | 0      | 3      | BB McCullum | P Kumar  | SC Ganguly    | 0              | 1            | 1            | wides         | 0           | nan                | nan              | nan       |\n",
            "| 335982     | 1        | Kolkata Knight Riders | Royal Challengers Bangalore | 0      | 4      | BB McCullum | P Kumar  | SC Ganguly    | 0              | 0            | 0            | nan           | 0           | nan                | nan              | nan       |\n",
            "| 335982     | 1        | Kolkata Knight Riders | Royal Challengers Bangalore | 0      | 5      | BB McCullum | P Kumar  | SC Ganguly    | 0              | 0            | 0            | nan           | 0           | nan                | nan              | nan       |\n",
            "\n",
            "First 5 rows of matches:\n",
            "| id     | season   | city       | date       | match_type   | player_of_match   | venue                                      | team1                       | team2                       | toss_winner                 | toss_decision   | winner                      | result   | result_margin   | target_runs   | target_overs   | super_over   | method   | umpire1   | umpire2        |\n",
            "|:-------|:---------|:-----------|:-----------|:-------------|:------------------|:-------------------------------------------|:----------------------------|:----------------------------|:----------------------------|:----------------|:----------------------------|:---------|:----------------|:--------------|:---------------|:-------------|:---------|:----------|:---------------|\n",
            "| 335982 | 2007/08  | Bangalore  | 2008-04-18 | League       | BB McCullum       | M Chinnaswamy Stadium                      | Royal Challengers Bangalore | Kolkata Knight Riders       | Royal Challengers Bangalore | field           | Kolkata Knight Riders       | runs     | 140             | 223           | 20             | N            | nan      | Asad Rauf | RE Koertzen    |\n",
            "| 335983 | 2007/08  | Chandigarh | 2008-04-19 | League       | MEK Hussey        | Punjab Cricket Association Stadium, Mohali | Kings XI Punjab             | Chennai Super Kings         | Chennai Super Kings         | bat             | Chennai Super Kings         | runs     | 33              | 241           | 20             | N            | nan      | MR Benson | SL Shastri     |\n",
            "| 335984 | 2007/08  | Delhi      | 2008-04-19 | League       | MF Maharoof       | Feroz Shah Kotla                           | Delhi Daredevils            | Rajasthan Royals            | Rajasthan Royals            | bat             | Delhi Daredevils            | wickets  | 9               | 130           | 20             | N            | nan      | Aleem Dar | GA Pratapkumar |\n",
            "| 335985 | 2007/08  | Mumbai     | 2008-04-20 | League       | MV Boucher        | Wankhede Stadium                           | Mumbai Indians              | Royal Challengers Bangalore | Mumbai Indians              | bat             | Royal Challengers Bangalore | wickets  | 5               | 166           | 20             | N            | nan      | SJ Davis  | DJ Harper      |\n",
            "| 335986 | 2007/08  | Kolkata    | 2008-04-20 | League       | DJ Hussey         | Eden Gardens                               | Kolkata Knight Riders       | Deccan Chargers             | Deccan Chargers             | bat             | Kolkata Knight Riders       | wickets  | 5               | 111           | 20             | N            | nan      | BF Bowden | K Hariharan    |\n",
            "\n",
            "Information of deliveries:\n",
            "<class 'pandas.core.frame.DataFrame'>\n",
            "RangeIndex: 260920 entries, 0 to 260919\n",
            "Data columns (total 17 columns):\n",
            " #   Column            Non-Null Count   Dtype \n",
            "---  ------            --------------   ----- \n",
            " 0   match_id          260920 non-null  int64 \n",
            " 1   inning            260920 non-null  int64 \n",
            " 2   batting_team      260920 non-null  object\n",
            " 3   bowling_team      260920 non-null  object\n",
            " 4   over              260920 non-null  int64 \n",
            " 5   ball              260920 non-null  int64 \n",
            " 6   batter            260920 non-null  object\n",
            " 7   bowler            260920 non-null  object\n",
            " 8   non_striker       260920 non-null  object\n",
            " 9   batsman_runs      260920 non-null  int64 \n",
            " 10  extra_runs        260920 non-null  int64 \n",
            " 11  total_runs        260920 non-null  int64 \n",
            " 12  extras_type       14125 non-null   object\n",
            " 13  is_wicket         260920 non-null  int64 \n",
            " 14  player_dismissed  12950 non-null   object\n",
            " 15  dismissal_kind    12950 non-null   object\n",
            " 16  fielder           9354 non-null    object\n",
            "dtypes: int64(8), object(9)\n",
            "memory usage: 33.8+ MB\n",
            "None\n",
            "\n",
            "Information of matches:\n",
            "<class 'pandas.core.frame.DataFrame'>\n",
            "RangeIndex: 1095 entries, 0 to 1094\n",
            "Data columns (total 20 columns):\n",
            " #   Column           Non-Null Count  Dtype  \n",
            "---  ------           --------------  -----  \n",
            " 0   id               1095 non-null   int64  \n",
            " 1   season           1095 non-null   object \n",
            " 2   city             1044 non-null   object \n",
            " 3   date             1095 non-null   object \n",
            " 4   match_type       1095 non-null   object \n",
            " 5   player_of_match  1090 non-null   object \n",
            " 6   venue            1095 non-null   object \n",
            " 7   team1            1095 non-null   object \n",
            " 8   team2            1095 non-null   object \n",
            " 9   toss_winner      1095 non-null   object \n",
            " 10  toss_decision    1095 non-null   object \n",
            " 11  winner           1090 non-null   object \n",
            " 12  result           1095 non-null   object \n",
            " 13  result_margin    1076 non-null   float64\n",
            " 14  target_runs      1092 non-null   float64\n",
            " 15  target_overs     1092 non-null   float64\n",
            " 16  super_over       1095 non-null   object \n",
            " 17  method           21 non-null     object \n",
            " 18  umpire1          1095 non-null   object \n",
            " 19  umpire2          1095 non-null   object \n",
            "dtypes: float64(3), int64(1), object(16)\n",
            "memory usage: 171.2+ KB\n",
            "None\n"
          ]
        }
      ]
    },
    {
      "cell_type": "markdown",
      "source": [
        "# **IPL 2008 - 2024 Data Analysis**"
      ],
      "metadata": {
        "id": "fD--WAKzPl7l"
      }
    },
    {
      "cell_type": "code",
      "source": [
        "matches.head()"
      ],
      "metadata": {
        "execution": {
          "iopub.status.busy": "2024-06-12T18:30:01.987928Z",
          "iopub.execute_input": "2024-06-12T18:30:01.988267Z",
          "iopub.status.idle": "2024-06-12T18:30:02.025525Z",
          "shell.execute_reply.started": "2024-06-12T18:30:01.988231Z",
          "shell.execute_reply": "2024-06-12T18:30:02.024298Z"
        },
        "trusted": true,
        "id": "4-1tsODQPl7l",
        "colab": {
          "base_uri": "https://localhost:8080/",
          "height": 417
        },
        "outputId": "d133633d-2447-4729-e88f-2f85950a3c38"
      },
      "execution_count": 59,
      "outputs": [
        {
          "output_type": "execute_result",
          "data": {
            "text/plain": [
              "       id   season        city        date match_type player_of_match  \\\n",
              "0  335982  2007/08   Bangalore  2008-04-18     League     BB McCullum   \n",
              "1  335983  2007/08  Chandigarh  2008-04-19     League      MEK Hussey   \n",
              "2  335984  2007/08       Delhi  2008-04-19     League     MF Maharoof   \n",
              "3  335985  2007/08      Mumbai  2008-04-20     League      MV Boucher   \n",
              "4  335986  2007/08     Kolkata  2008-04-20     League       DJ Hussey   \n",
              "\n",
              "                                        venue                        team1  \\\n",
              "0                       M Chinnaswamy Stadium  Royal Challengers Bangalore   \n",
              "1  Punjab Cricket Association Stadium, Mohali              Kings XI Punjab   \n",
              "2                            Feroz Shah Kotla             Delhi Daredevils   \n",
              "3                            Wankhede Stadium               Mumbai Indians   \n",
              "4                                Eden Gardens        Kolkata Knight Riders   \n",
              "\n",
              "                         team2                  toss_winner toss_decision  \\\n",
              "0        Kolkata Knight Riders  Royal Challengers Bangalore         field   \n",
              "1          Chennai Super Kings          Chennai Super Kings           bat   \n",
              "2             Rajasthan Royals             Rajasthan Royals           bat   \n",
              "3  Royal Challengers Bangalore               Mumbai Indians           bat   \n",
              "4              Deccan Chargers              Deccan Chargers           bat   \n",
              "\n",
              "                        winner   result  result_margin  target_runs  \\\n",
              "0        Kolkata Knight Riders     runs          140.0        223.0   \n",
              "1          Chennai Super Kings     runs           33.0        241.0   \n",
              "2             Delhi Daredevils  wickets            9.0        130.0   \n",
              "3  Royal Challengers Bangalore  wickets            5.0        166.0   \n",
              "4        Kolkata Knight Riders  wickets            5.0        111.0   \n",
              "\n",
              "   target_overs super_over method    umpire1         umpire2  \n",
              "0          20.0          N    NaN  Asad Rauf     RE Koertzen  \n",
              "1          20.0          N    NaN  MR Benson      SL Shastri  \n",
              "2          20.0          N    NaN  Aleem Dar  GA Pratapkumar  \n",
              "3          20.0          N    NaN   SJ Davis       DJ Harper  \n",
              "4          20.0          N    NaN  BF Bowden     K Hariharan  "
            ],
            "text/html": [
              "\n",
              "  <div id=\"df-24a267ba-19aa-436d-8e40-c215df79bb02\" class=\"colab-df-container\">\n",
              "    <div>\n",
              "<style scoped>\n",
              "    .dataframe tbody tr th:only-of-type {\n",
              "        vertical-align: middle;\n",
              "    }\n",
              "\n",
              "    .dataframe tbody tr th {\n",
              "        vertical-align: top;\n",
              "    }\n",
              "\n",
              "    .dataframe thead th {\n",
              "        text-align: right;\n",
              "    }\n",
              "</style>\n",
              "<table border=\"1\" class=\"dataframe\">\n",
              "  <thead>\n",
              "    <tr style=\"text-align: right;\">\n",
              "      <th></th>\n",
              "      <th>id</th>\n",
              "      <th>season</th>\n",
              "      <th>city</th>\n",
              "      <th>date</th>\n",
              "      <th>match_type</th>\n",
              "      <th>player_of_match</th>\n",
              "      <th>venue</th>\n",
              "      <th>team1</th>\n",
              "      <th>team2</th>\n",
              "      <th>toss_winner</th>\n",
              "      <th>toss_decision</th>\n",
              "      <th>winner</th>\n",
              "      <th>result</th>\n",
              "      <th>result_margin</th>\n",
              "      <th>target_runs</th>\n",
              "      <th>target_overs</th>\n",
              "      <th>super_over</th>\n",
              "      <th>method</th>\n",
              "      <th>umpire1</th>\n",
              "      <th>umpire2</th>\n",
              "    </tr>\n",
              "  </thead>\n",
              "  <tbody>\n",
              "    <tr>\n",
              "      <th>0</th>\n",
              "      <td>335982</td>\n",
              "      <td>2007/08</td>\n",
              "      <td>Bangalore</td>\n",
              "      <td>2008-04-18</td>\n",
              "      <td>League</td>\n",
              "      <td>BB McCullum</td>\n",
              "      <td>M Chinnaswamy Stadium</td>\n",
              "      <td>Royal Challengers Bangalore</td>\n",
              "      <td>Kolkata Knight Riders</td>\n",
              "      <td>Royal Challengers Bangalore</td>\n",
              "      <td>field</td>\n",
              "      <td>Kolkata Knight Riders</td>\n",
              "      <td>runs</td>\n",
              "      <td>140.0</td>\n",
              "      <td>223.0</td>\n",
              "      <td>20.0</td>\n",
              "      <td>N</td>\n",
              "      <td>NaN</td>\n",
              "      <td>Asad Rauf</td>\n",
              "      <td>RE Koertzen</td>\n",
              "    </tr>\n",
              "    <tr>\n",
              "      <th>1</th>\n",
              "      <td>335983</td>\n",
              "      <td>2007/08</td>\n",
              "      <td>Chandigarh</td>\n",
              "      <td>2008-04-19</td>\n",
              "      <td>League</td>\n",
              "      <td>MEK Hussey</td>\n",
              "      <td>Punjab Cricket Association Stadium, Mohali</td>\n",
              "      <td>Kings XI Punjab</td>\n",
              "      <td>Chennai Super Kings</td>\n",
              "      <td>Chennai Super Kings</td>\n",
              "      <td>bat</td>\n",
              "      <td>Chennai Super Kings</td>\n",
              "      <td>runs</td>\n",
              "      <td>33.0</td>\n",
              "      <td>241.0</td>\n",
              "      <td>20.0</td>\n",
              "      <td>N</td>\n",
              "      <td>NaN</td>\n",
              "      <td>MR Benson</td>\n",
              "      <td>SL Shastri</td>\n",
              "    </tr>\n",
              "    <tr>\n",
              "      <th>2</th>\n",
              "      <td>335984</td>\n",
              "      <td>2007/08</td>\n",
              "      <td>Delhi</td>\n",
              "      <td>2008-04-19</td>\n",
              "      <td>League</td>\n",
              "      <td>MF Maharoof</td>\n",
              "      <td>Feroz Shah Kotla</td>\n",
              "      <td>Delhi Daredevils</td>\n",
              "      <td>Rajasthan Royals</td>\n",
              "      <td>Rajasthan Royals</td>\n",
              "      <td>bat</td>\n",
              "      <td>Delhi Daredevils</td>\n",
              "      <td>wickets</td>\n",
              "      <td>9.0</td>\n",
              "      <td>130.0</td>\n",
              "      <td>20.0</td>\n",
              "      <td>N</td>\n",
              "      <td>NaN</td>\n",
              "      <td>Aleem Dar</td>\n",
              "      <td>GA Pratapkumar</td>\n",
              "    </tr>\n",
              "    <tr>\n",
              "      <th>3</th>\n",
              "      <td>335985</td>\n",
              "      <td>2007/08</td>\n",
              "      <td>Mumbai</td>\n",
              "      <td>2008-04-20</td>\n",
              "      <td>League</td>\n",
              "      <td>MV Boucher</td>\n",
              "      <td>Wankhede Stadium</td>\n",
              "      <td>Mumbai Indians</td>\n",
              "      <td>Royal Challengers Bangalore</td>\n",
              "      <td>Mumbai Indians</td>\n",
              "      <td>bat</td>\n",
              "      <td>Royal Challengers Bangalore</td>\n",
              "      <td>wickets</td>\n",
              "      <td>5.0</td>\n",
              "      <td>166.0</td>\n",
              "      <td>20.0</td>\n",
              "      <td>N</td>\n",
              "      <td>NaN</td>\n",
              "      <td>SJ Davis</td>\n",
              "      <td>DJ Harper</td>\n",
              "    </tr>\n",
              "    <tr>\n",
              "      <th>4</th>\n",
              "      <td>335986</td>\n",
              "      <td>2007/08</td>\n",
              "      <td>Kolkata</td>\n",
              "      <td>2008-04-20</td>\n",
              "      <td>League</td>\n",
              "      <td>DJ Hussey</td>\n",
              "      <td>Eden Gardens</td>\n",
              "      <td>Kolkata Knight Riders</td>\n",
              "      <td>Deccan Chargers</td>\n",
              "      <td>Deccan Chargers</td>\n",
              "      <td>bat</td>\n",
              "      <td>Kolkata Knight Riders</td>\n",
              "      <td>wickets</td>\n",
              "      <td>5.0</td>\n",
              "      <td>111.0</td>\n",
              "      <td>20.0</td>\n",
              "      <td>N</td>\n",
              "      <td>NaN</td>\n",
              "      <td>BF Bowden</td>\n",
              "      <td>K Hariharan</td>\n",
              "    </tr>\n",
              "  </tbody>\n",
              "</table>\n",
              "</div>\n",
              "    <div class=\"colab-df-buttons\">\n",
              "\n",
              "  <div class=\"colab-df-container\">\n",
              "    <button class=\"colab-df-convert\" onclick=\"convertToInteractive('df-24a267ba-19aa-436d-8e40-c215df79bb02')\"\n",
              "            title=\"Convert this dataframe to an interactive table.\"\n",
              "            style=\"display:none;\">\n",
              "\n",
              "  <svg xmlns=\"http://www.w3.org/2000/svg\" height=\"24px\" viewBox=\"0 -960 960 960\">\n",
              "    <path d=\"M120-120v-720h720v720H120Zm60-500h600v-160H180v160Zm220 220h160v-160H400v160Zm0 220h160v-160H400v160ZM180-400h160v-160H180v160Zm440 0h160v-160H620v160ZM180-180h160v-160H180v160Zm440 0h160v-160H620v160Z\"/>\n",
              "  </svg>\n",
              "    </button>\n",
              "\n",
              "  <style>\n",
              "    .colab-df-container {\n",
              "      display:flex;\n",
              "      gap: 12px;\n",
              "    }\n",
              "\n",
              "    .colab-df-convert {\n",
              "      background-color: #E8F0FE;\n",
              "      border: none;\n",
              "      border-radius: 50%;\n",
              "      cursor: pointer;\n",
              "      display: none;\n",
              "      fill: #1967D2;\n",
              "      height: 32px;\n",
              "      padding: 0 0 0 0;\n",
              "      width: 32px;\n",
              "    }\n",
              "\n",
              "    .colab-df-convert:hover {\n",
              "      background-color: #E2EBFA;\n",
              "      box-shadow: 0px 1px 2px rgba(60, 64, 67, 0.3), 0px 1px 3px 1px rgba(60, 64, 67, 0.15);\n",
              "      fill: #174EA6;\n",
              "    }\n",
              "\n",
              "    .colab-df-buttons div {\n",
              "      margin-bottom: 4px;\n",
              "    }\n",
              "\n",
              "    [theme=dark] .colab-df-convert {\n",
              "      background-color: #3B4455;\n",
              "      fill: #D2E3FC;\n",
              "    }\n",
              "\n",
              "    [theme=dark] .colab-df-convert:hover {\n",
              "      background-color: #434B5C;\n",
              "      box-shadow: 0px 1px 3px 1px rgba(0, 0, 0, 0.15);\n",
              "      filter: drop-shadow(0px 1px 2px rgba(0, 0, 0, 0.3));\n",
              "      fill: #FFFFFF;\n",
              "    }\n",
              "  </style>\n",
              "\n",
              "    <script>\n",
              "      const buttonEl =\n",
              "        document.querySelector('#df-24a267ba-19aa-436d-8e40-c215df79bb02 button.colab-df-convert');\n",
              "      buttonEl.style.display =\n",
              "        google.colab.kernel.accessAllowed ? 'block' : 'none';\n",
              "\n",
              "      async function convertToInteractive(key) {\n",
              "        const element = document.querySelector('#df-24a267ba-19aa-436d-8e40-c215df79bb02');\n",
              "        const dataTable =\n",
              "          await google.colab.kernel.invokeFunction('convertToInteractive',\n",
              "                                                    [key], {});\n",
              "        if (!dataTable) return;\n",
              "\n",
              "        const docLinkHtml = 'Like what you see? Visit the ' +\n",
              "          '<a target=\"_blank\" href=https://colab.research.google.com/notebooks/data_table.ipynb>data table notebook</a>'\n",
              "          + ' to learn more about interactive tables.';\n",
              "        element.innerHTML = '';\n",
              "        dataTable['output_type'] = 'display_data';\n",
              "        await google.colab.output.renderOutput(dataTable, element);\n",
              "        const docLink = document.createElement('div');\n",
              "        docLink.innerHTML = docLinkHtml;\n",
              "        element.appendChild(docLink);\n",
              "      }\n",
              "    </script>\n",
              "  </div>\n",
              "\n",
              "\n",
              "<div id=\"df-16fde493-4601-4118-9934-660dc96c48cd\">\n",
              "  <button class=\"colab-df-quickchart\" onclick=\"quickchart('df-16fde493-4601-4118-9934-660dc96c48cd')\"\n",
              "            title=\"Suggest charts\"\n",
              "            style=\"display:none;\">\n",
              "\n",
              "<svg xmlns=\"http://www.w3.org/2000/svg\" height=\"24px\"viewBox=\"0 0 24 24\"\n",
              "     width=\"24px\">\n",
              "    <g>\n",
              "        <path d=\"M19 3H5c-1.1 0-2 .9-2 2v14c0 1.1.9 2 2 2h14c1.1 0 2-.9 2-2V5c0-1.1-.9-2-2-2zM9 17H7v-7h2v7zm4 0h-2V7h2v10zm4 0h-2v-4h2v4z\"/>\n",
              "    </g>\n",
              "</svg>\n",
              "  </button>\n",
              "\n",
              "<style>\n",
              "  .colab-df-quickchart {\n",
              "      --bg-color: #E8F0FE;\n",
              "      --fill-color: #1967D2;\n",
              "      --hover-bg-color: #E2EBFA;\n",
              "      --hover-fill-color: #174EA6;\n",
              "      --disabled-fill-color: #AAA;\n",
              "      --disabled-bg-color: #DDD;\n",
              "  }\n",
              "\n",
              "  [theme=dark] .colab-df-quickchart {\n",
              "      --bg-color: #3B4455;\n",
              "      --fill-color: #D2E3FC;\n",
              "      --hover-bg-color: #434B5C;\n",
              "      --hover-fill-color: #FFFFFF;\n",
              "      --disabled-bg-color: #3B4455;\n",
              "      --disabled-fill-color: #666;\n",
              "  }\n",
              "\n",
              "  .colab-df-quickchart {\n",
              "    background-color: var(--bg-color);\n",
              "    border: none;\n",
              "    border-radius: 50%;\n",
              "    cursor: pointer;\n",
              "    display: none;\n",
              "    fill: var(--fill-color);\n",
              "    height: 32px;\n",
              "    padding: 0;\n",
              "    width: 32px;\n",
              "  }\n",
              "\n",
              "  .colab-df-quickchart:hover {\n",
              "    background-color: var(--hover-bg-color);\n",
              "    box-shadow: 0 1px 2px rgba(60, 64, 67, 0.3), 0 1px 3px 1px rgba(60, 64, 67, 0.15);\n",
              "    fill: var(--button-hover-fill-color);\n",
              "  }\n",
              "\n",
              "  .colab-df-quickchart-complete:disabled,\n",
              "  .colab-df-quickchart-complete:disabled:hover {\n",
              "    background-color: var(--disabled-bg-color);\n",
              "    fill: var(--disabled-fill-color);\n",
              "    box-shadow: none;\n",
              "  }\n",
              "\n",
              "  .colab-df-spinner {\n",
              "    border: 2px solid var(--fill-color);\n",
              "    border-color: transparent;\n",
              "    border-bottom-color: var(--fill-color);\n",
              "    animation:\n",
              "      spin 1s steps(1) infinite;\n",
              "  }\n",
              "\n",
              "  @keyframes spin {\n",
              "    0% {\n",
              "      border-color: transparent;\n",
              "      border-bottom-color: var(--fill-color);\n",
              "      border-left-color: var(--fill-color);\n",
              "    }\n",
              "    20% {\n",
              "      border-color: transparent;\n",
              "      border-left-color: var(--fill-color);\n",
              "      border-top-color: var(--fill-color);\n",
              "    }\n",
              "    30% {\n",
              "      border-color: transparent;\n",
              "      border-left-color: var(--fill-color);\n",
              "      border-top-color: var(--fill-color);\n",
              "      border-right-color: var(--fill-color);\n",
              "    }\n",
              "    40% {\n",
              "      border-color: transparent;\n",
              "      border-right-color: var(--fill-color);\n",
              "      border-top-color: var(--fill-color);\n",
              "    }\n",
              "    60% {\n",
              "      border-color: transparent;\n",
              "      border-right-color: var(--fill-color);\n",
              "    }\n",
              "    80% {\n",
              "      border-color: transparent;\n",
              "      border-right-color: var(--fill-color);\n",
              "      border-bottom-color: var(--fill-color);\n",
              "    }\n",
              "    90% {\n",
              "      border-color: transparent;\n",
              "      border-bottom-color: var(--fill-color);\n",
              "    }\n",
              "  }\n",
              "</style>\n",
              "\n",
              "  <script>\n",
              "    async function quickchart(key) {\n",
              "      const quickchartButtonEl =\n",
              "        document.querySelector('#' + key + ' button');\n",
              "      quickchartButtonEl.disabled = true;  // To prevent multiple clicks.\n",
              "      quickchartButtonEl.classList.add('colab-df-spinner');\n",
              "      try {\n",
              "        const charts = await google.colab.kernel.invokeFunction(\n",
              "            'suggestCharts', [key], {});\n",
              "      } catch (error) {\n",
              "        console.error('Error during call to suggestCharts:', error);\n",
              "      }\n",
              "      quickchartButtonEl.classList.remove('colab-df-spinner');\n",
              "      quickchartButtonEl.classList.add('colab-df-quickchart-complete');\n",
              "    }\n",
              "    (() => {\n",
              "      let quickchartButtonEl =\n",
              "        document.querySelector('#df-16fde493-4601-4118-9934-660dc96c48cd button');\n",
              "      quickchartButtonEl.style.display =\n",
              "        google.colab.kernel.accessAllowed ? 'block' : 'none';\n",
              "    })();\n",
              "  </script>\n",
              "</div>\n",
              "\n",
              "    </div>\n",
              "  </div>\n"
            ],
            "application/vnd.google.colaboratory.intrinsic+json": {
              "type": "dataframe",
              "variable_name": "matches",
              "summary": "{\n  \"name\": \"matches\",\n  \"rows\": 1095,\n  \"fields\": [\n    {\n      \"column\": \"id\",\n      \"properties\": {\n        \"dtype\": \"number\",\n        \"std\": 367740,\n        \"min\": 335982,\n        \"max\": 1426312,\n        \"num_unique_values\": 1095,\n        \"samples\": [\n          980933,\n          419130,\n          392213\n        ],\n        \"semantic_type\": \"\",\n        \"description\": \"\"\n      }\n    },\n    {\n      \"column\": \"season\",\n      \"properties\": {\n        \"dtype\": \"category\",\n        \"num_unique_values\": 17,\n        \"samples\": [\n          \"2007/08\",\n          \"2009\",\n          \"2013\"\n        ],\n        \"semantic_type\": \"\",\n        \"description\": \"\"\n      }\n    },\n    {\n      \"column\": \"city\",\n      \"properties\": {\n        \"dtype\": \"category\",\n        \"num_unique_values\": 36,\n        \"samples\": [\n          \"Mohali\",\n          \"Johannesburg\",\n          \"Abu Dhabi\"\n        ],\n        \"semantic_type\": \"\",\n        \"description\": \"\"\n      }\n    },\n    {\n      \"column\": \"date\",\n      \"properties\": {\n        \"dtype\": \"object\",\n        \"num_unique_values\": 823,\n        \"samples\": [\n          \"2021-04-23\",\n          \"2012-04-06\",\n          \"2009-05-12\"\n        ],\n        \"semantic_type\": \"\",\n        \"description\": \"\"\n      }\n    },\n    {\n      \"column\": \"match_type\",\n      \"properties\": {\n        \"dtype\": \"category\",\n        \"num_unique_values\": 8,\n        \"samples\": [\n          \"Semi Final\",\n          \"Elimination Final\",\n          \"League\"\n        ],\n        \"semantic_type\": \"\",\n        \"description\": \"\"\n      }\n    },\n    {\n      \"column\": \"player_of_match\",\n      \"properties\": {\n        \"dtype\": \"category\",\n        \"num_unique_values\": 291,\n        \"samples\": [\n          \"PD Collingwood\",\n          \"DR Sams\",\n          \"CH Gayle\"\n        ],\n        \"semantic_type\": \"\",\n        \"description\": \"\"\n      }\n    },\n    {\n      \"column\": \"venue\",\n      \"properties\": {\n        \"dtype\": \"category\",\n        \"num_unique_values\": 58,\n        \"samples\": [\n          \"M Chinnaswamy Stadium\",\n          \"Sawai Mansingh Stadium\",\n          \"Saurashtra Cricket Association Stadium\"\n        ],\n        \"semantic_type\": \"\",\n        \"description\": \"\"\n      }\n    },\n    {\n      \"column\": \"team1\",\n      \"properties\": {\n        \"dtype\": \"category\",\n        \"num_unique_values\": 19,\n        \"samples\": [\n          \"Royal Challengers Bangalore\",\n          \"Rajasthan Royals\",\n          \"Gujarat Lions\"\n        ],\n        \"semantic_type\": \"\",\n        \"description\": \"\"\n      }\n    },\n    {\n      \"column\": \"team2\",\n      \"properties\": {\n        \"dtype\": \"category\",\n        \"num_unique_values\": 19,\n        \"samples\": [\n          \"Kolkata Knight Riders\",\n          \"Kings XI Punjab\",\n          \"Rising Pune Supergiants\"\n        ],\n        \"semantic_type\": \"\",\n        \"description\": \"\"\n      }\n    },\n    {\n      \"column\": \"toss_winner\",\n      \"properties\": {\n        \"dtype\": \"category\",\n        \"num_unique_values\": 19,\n        \"samples\": [\n          \"Royal Challengers Bangalore\",\n          \"Kings XI Punjab\",\n          \"Gujarat Lions\"\n        ],\n        \"semantic_type\": \"\",\n        \"description\": \"\"\n      }\n    },\n    {\n      \"column\": \"toss_decision\",\n      \"properties\": {\n        \"dtype\": \"category\",\n        \"num_unique_values\": 2,\n        \"samples\": [\n          \"bat\",\n          \"field\"\n        ],\n        \"semantic_type\": \"\",\n        \"description\": \"\"\n      }\n    },\n    {\n      \"column\": \"winner\",\n      \"properties\": {\n        \"dtype\": \"category\",\n        \"num_unique_values\": 19,\n        \"samples\": [\n          \"Kolkata Knight Riders\",\n          \"Kings XI Punjab\"\n        ],\n        \"semantic_type\": \"\",\n        \"description\": \"\"\n      }\n    },\n    {\n      \"column\": \"result\",\n      \"properties\": {\n        \"dtype\": \"category\",\n        \"num_unique_values\": 4,\n        \"samples\": [\n          \"wickets\",\n          \"no result\"\n        ],\n        \"semantic_type\": \"\",\n        \"description\": \"\"\n      }\n    },\n    {\n      \"column\": \"result_margin\",\n      \"properties\": {\n        \"dtype\": \"number\",\n        \"std\": 21.787443729011315,\n        \"min\": 1.0,\n        \"max\": 146.0,\n        \"num_unique_values\": 98,\n        \"samples\": [\n          59.0,\n          39.0\n        ],\n        \"semantic_type\": \"\",\n        \"description\": \"\"\n      }\n    },\n    {\n      \"column\": \"target_runs\",\n      \"properties\": {\n        \"dtype\": \"number\",\n        \"std\": 33.42704825769165,\n        \"min\": 43.0,\n        \"max\": 288.0,\n        \"num_unique_values\": 170,\n        \"samples\": [\n          249.0,\n          144.0\n        ],\n        \"semantic_type\": \"\",\n        \"description\": \"\"\n      }\n    },\n    {\n      \"column\": \"target_overs\",\n      \"properties\": {\n        \"dtype\": \"number\",\n        \"std\": 1.5811083157739847,\n        \"min\": 5.0,\n        \"max\": 20.0,\n        \"num_unique_values\": 15,\n        \"samples\": [\n          12.0,\n          11.0\n        ],\n        \"semantic_type\": \"\",\n        \"description\": \"\"\n      }\n    },\n    {\n      \"column\": \"super_over\",\n      \"properties\": {\n        \"dtype\": \"category\",\n        \"num_unique_values\": 2,\n        \"samples\": [\n          \"Y\",\n          \"N\"\n        ],\n        \"semantic_type\": \"\",\n        \"description\": \"\"\n      }\n    },\n    {\n      \"column\": \"method\",\n      \"properties\": {\n        \"dtype\": \"category\",\n        \"num_unique_values\": 1,\n        \"samples\": [\n          \"D/L\"\n        ],\n        \"semantic_type\": \"\",\n        \"description\": \"\"\n      }\n    },\n    {\n      \"column\": \"umpire1\",\n      \"properties\": {\n        \"dtype\": \"category\",\n        \"num_unique_values\": 62,\n        \"samples\": [\n          \"Navdeep Singh\"\n        ],\n        \"semantic_type\": \"\",\n        \"description\": \"\"\n      }\n    },\n    {\n      \"column\": \"umpire2\",\n      \"properties\": {\n        \"dtype\": \"category\",\n        \"num_unique_values\": 62,\n        \"samples\": [\n          \"AY Dandekar\"\n        ],\n        \"semantic_type\": \"\",\n        \"description\": \"\"\n      }\n    }\n  ]\n}"
            }
          },
          "metadata": {},
          "execution_count": 59
        }
      ]
    },
    {
      "cell_type": "code",
      "source": [
        "matches.info()"
      ],
      "metadata": {
        "execution": {
          "iopub.status.busy": "2024-06-12T18:30:02.028701Z",
          "iopub.execute_input": "2024-06-12T18:30:02.029116Z",
          "iopub.status.idle": "2024-06-12T18:30:02.060497Z",
          "shell.execute_reply.started": "2024-06-12T18:30:02.029077Z",
          "shell.execute_reply": "2024-06-12T18:30:02.059436Z"
        },
        "trusted": true,
        "id": "oVJXgER2Pl7l",
        "colab": {
          "base_uri": "https://localhost:8080/",
          "height": 0
        },
        "outputId": "1b14ae77-f0fa-4973-cf59-618cbe30b5b3"
      },
      "execution_count": 60,
      "outputs": [
        {
          "output_type": "stream",
          "name": "stdout",
          "text": [
            "<class 'pandas.core.frame.DataFrame'>\n",
            "RangeIndex: 1095 entries, 0 to 1094\n",
            "Data columns (total 20 columns):\n",
            " #   Column           Non-Null Count  Dtype  \n",
            "---  ------           --------------  -----  \n",
            " 0   id               1095 non-null   int64  \n",
            " 1   season           1095 non-null   object \n",
            " 2   city             1044 non-null   object \n",
            " 3   date             1095 non-null   object \n",
            " 4   match_type       1095 non-null   object \n",
            " 5   player_of_match  1090 non-null   object \n",
            " 6   venue            1095 non-null   object \n",
            " 7   team1            1095 non-null   object \n",
            " 8   team2            1095 non-null   object \n",
            " 9   toss_winner      1095 non-null   object \n",
            " 10  toss_decision    1095 non-null   object \n",
            " 11  winner           1090 non-null   object \n",
            " 12  result           1095 non-null   object \n",
            " 13  result_margin    1076 non-null   float64\n",
            " 14  target_runs      1092 non-null   float64\n",
            " 15  target_overs     1092 non-null   float64\n",
            " 16  super_over       1095 non-null   object \n",
            " 17  method           21 non-null     object \n",
            " 18  umpire1          1095 non-null   object \n",
            " 19  umpire2          1095 non-null   object \n",
            "dtypes: float64(3), int64(1), object(16)\n",
            "memory usage: 171.2+ KB\n"
          ]
        }
      ]
    },
    {
      "cell_type": "code",
      "source": [
        "matches.describe()"
      ],
      "metadata": {
        "execution": {
          "iopub.status.busy": "2024-06-12T18:30:02.061742Z",
          "iopub.execute_input": "2024-06-12T18:30:02.062059Z",
          "iopub.status.idle": "2024-06-12T18:30:02.091225Z",
          "shell.execute_reply.started": "2024-06-12T18:30:02.062031Z",
          "shell.execute_reply": "2024-06-12T18:30:02.090109Z"
        },
        "trusted": true,
        "id": "T0IEoAaVPl7l",
        "colab": {
          "base_uri": "https://localhost:8080/",
          "height": 300
        },
        "outputId": "ef2d2e0d-5f5f-42a3-d11b-174519cc4cab"
      },
      "execution_count": 61,
      "outputs": [
        {
          "output_type": "execute_result",
          "data": {
            "text/plain": [
              "                 id  result_margin  target_runs  target_overs\n",
              "count  1.095000e+03    1076.000000  1092.000000   1092.000000\n",
              "mean   9.048283e+05      17.259294   165.684066     19.759341\n",
              "std    3.677402e+05      21.787444    33.427048      1.581108\n",
              "min    3.359820e+05       1.000000    43.000000      5.000000\n",
              "25%    5.483315e+05       6.000000   146.000000     20.000000\n",
              "50%    9.809610e+05       8.000000   166.000000     20.000000\n",
              "75%    1.254062e+06      20.000000   187.000000     20.000000\n",
              "max    1.426312e+06     146.000000   288.000000     20.000000"
            ],
            "text/html": [
              "\n",
              "  <div id=\"df-48985046-6ad6-4611-acc9-762cc4326384\" class=\"colab-df-container\">\n",
              "    <div>\n",
              "<style scoped>\n",
              "    .dataframe tbody tr th:only-of-type {\n",
              "        vertical-align: middle;\n",
              "    }\n",
              "\n",
              "    .dataframe tbody tr th {\n",
              "        vertical-align: top;\n",
              "    }\n",
              "\n",
              "    .dataframe thead th {\n",
              "        text-align: right;\n",
              "    }\n",
              "</style>\n",
              "<table border=\"1\" class=\"dataframe\">\n",
              "  <thead>\n",
              "    <tr style=\"text-align: right;\">\n",
              "      <th></th>\n",
              "      <th>id</th>\n",
              "      <th>result_margin</th>\n",
              "      <th>target_runs</th>\n",
              "      <th>target_overs</th>\n",
              "    </tr>\n",
              "  </thead>\n",
              "  <tbody>\n",
              "    <tr>\n",
              "      <th>count</th>\n",
              "      <td>1.095000e+03</td>\n",
              "      <td>1076.000000</td>\n",
              "      <td>1092.000000</td>\n",
              "      <td>1092.000000</td>\n",
              "    </tr>\n",
              "    <tr>\n",
              "      <th>mean</th>\n",
              "      <td>9.048283e+05</td>\n",
              "      <td>17.259294</td>\n",
              "      <td>165.684066</td>\n",
              "      <td>19.759341</td>\n",
              "    </tr>\n",
              "    <tr>\n",
              "      <th>std</th>\n",
              "      <td>3.677402e+05</td>\n",
              "      <td>21.787444</td>\n",
              "      <td>33.427048</td>\n",
              "      <td>1.581108</td>\n",
              "    </tr>\n",
              "    <tr>\n",
              "      <th>min</th>\n",
              "      <td>3.359820e+05</td>\n",
              "      <td>1.000000</td>\n",
              "      <td>43.000000</td>\n",
              "      <td>5.000000</td>\n",
              "    </tr>\n",
              "    <tr>\n",
              "      <th>25%</th>\n",
              "      <td>5.483315e+05</td>\n",
              "      <td>6.000000</td>\n",
              "      <td>146.000000</td>\n",
              "      <td>20.000000</td>\n",
              "    </tr>\n",
              "    <tr>\n",
              "      <th>50%</th>\n",
              "      <td>9.809610e+05</td>\n",
              "      <td>8.000000</td>\n",
              "      <td>166.000000</td>\n",
              "      <td>20.000000</td>\n",
              "    </tr>\n",
              "    <tr>\n",
              "      <th>75%</th>\n",
              "      <td>1.254062e+06</td>\n",
              "      <td>20.000000</td>\n",
              "      <td>187.000000</td>\n",
              "      <td>20.000000</td>\n",
              "    </tr>\n",
              "    <tr>\n",
              "      <th>max</th>\n",
              "      <td>1.426312e+06</td>\n",
              "      <td>146.000000</td>\n",
              "      <td>288.000000</td>\n",
              "      <td>20.000000</td>\n",
              "    </tr>\n",
              "  </tbody>\n",
              "</table>\n",
              "</div>\n",
              "    <div class=\"colab-df-buttons\">\n",
              "\n",
              "  <div class=\"colab-df-container\">\n",
              "    <button class=\"colab-df-convert\" onclick=\"convertToInteractive('df-48985046-6ad6-4611-acc9-762cc4326384')\"\n",
              "            title=\"Convert this dataframe to an interactive table.\"\n",
              "            style=\"display:none;\">\n",
              "\n",
              "  <svg xmlns=\"http://www.w3.org/2000/svg\" height=\"24px\" viewBox=\"0 -960 960 960\">\n",
              "    <path d=\"M120-120v-720h720v720H120Zm60-500h600v-160H180v160Zm220 220h160v-160H400v160Zm0 220h160v-160H400v160ZM180-400h160v-160H180v160Zm440 0h160v-160H620v160ZM180-180h160v-160H180v160Zm440 0h160v-160H620v160Z\"/>\n",
              "  </svg>\n",
              "    </button>\n",
              "\n",
              "  <style>\n",
              "    .colab-df-container {\n",
              "      display:flex;\n",
              "      gap: 12px;\n",
              "    }\n",
              "\n",
              "    .colab-df-convert {\n",
              "      background-color: #E8F0FE;\n",
              "      border: none;\n",
              "      border-radius: 50%;\n",
              "      cursor: pointer;\n",
              "      display: none;\n",
              "      fill: #1967D2;\n",
              "      height: 32px;\n",
              "      padding: 0 0 0 0;\n",
              "      width: 32px;\n",
              "    }\n",
              "\n",
              "    .colab-df-convert:hover {\n",
              "      background-color: #E2EBFA;\n",
              "      box-shadow: 0px 1px 2px rgba(60, 64, 67, 0.3), 0px 1px 3px 1px rgba(60, 64, 67, 0.15);\n",
              "      fill: #174EA6;\n",
              "    }\n",
              "\n",
              "    .colab-df-buttons div {\n",
              "      margin-bottom: 4px;\n",
              "    }\n",
              "\n",
              "    [theme=dark] .colab-df-convert {\n",
              "      background-color: #3B4455;\n",
              "      fill: #D2E3FC;\n",
              "    }\n",
              "\n",
              "    [theme=dark] .colab-df-convert:hover {\n",
              "      background-color: #434B5C;\n",
              "      box-shadow: 0px 1px 3px 1px rgba(0, 0, 0, 0.15);\n",
              "      filter: drop-shadow(0px 1px 2px rgba(0, 0, 0, 0.3));\n",
              "      fill: #FFFFFF;\n",
              "    }\n",
              "  </style>\n",
              "\n",
              "    <script>\n",
              "      const buttonEl =\n",
              "        document.querySelector('#df-48985046-6ad6-4611-acc9-762cc4326384 button.colab-df-convert');\n",
              "      buttonEl.style.display =\n",
              "        google.colab.kernel.accessAllowed ? 'block' : 'none';\n",
              "\n",
              "      async function convertToInteractive(key) {\n",
              "        const element = document.querySelector('#df-48985046-6ad6-4611-acc9-762cc4326384');\n",
              "        const dataTable =\n",
              "          await google.colab.kernel.invokeFunction('convertToInteractive',\n",
              "                                                    [key], {});\n",
              "        if (!dataTable) return;\n",
              "\n",
              "        const docLinkHtml = 'Like what you see? Visit the ' +\n",
              "          '<a target=\"_blank\" href=https://colab.research.google.com/notebooks/data_table.ipynb>data table notebook</a>'\n",
              "          + ' to learn more about interactive tables.';\n",
              "        element.innerHTML = '';\n",
              "        dataTable['output_type'] = 'display_data';\n",
              "        await google.colab.output.renderOutput(dataTable, element);\n",
              "        const docLink = document.createElement('div');\n",
              "        docLink.innerHTML = docLinkHtml;\n",
              "        element.appendChild(docLink);\n",
              "      }\n",
              "    </script>\n",
              "  </div>\n",
              "\n",
              "\n",
              "<div id=\"df-02576f1d-cf85-49f3-aff2-aa56d54f5c31\">\n",
              "  <button class=\"colab-df-quickchart\" onclick=\"quickchart('df-02576f1d-cf85-49f3-aff2-aa56d54f5c31')\"\n",
              "            title=\"Suggest charts\"\n",
              "            style=\"display:none;\">\n",
              "\n",
              "<svg xmlns=\"http://www.w3.org/2000/svg\" height=\"24px\"viewBox=\"0 0 24 24\"\n",
              "     width=\"24px\">\n",
              "    <g>\n",
              "        <path d=\"M19 3H5c-1.1 0-2 .9-2 2v14c0 1.1.9 2 2 2h14c1.1 0 2-.9 2-2V5c0-1.1-.9-2-2-2zM9 17H7v-7h2v7zm4 0h-2V7h2v10zm4 0h-2v-4h2v4z\"/>\n",
              "    </g>\n",
              "</svg>\n",
              "  </button>\n",
              "\n",
              "<style>\n",
              "  .colab-df-quickchart {\n",
              "      --bg-color: #E8F0FE;\n",
              "      --fill-color: #1967D2;\n",
              "      --hover-bg-color: #E2EBFA;\n",
              "      --hover-fill-color: #174EA6;\n",
              "      --disabled-fill-color: #AAA;\n",
              "      --disabled-bg-color: #DDD;\n",
              "  }\n",
              "\n",
              "  [theme=dark] .colab-df-quickchart {\n",
              "      --bg-color: #3B4455;\n",
              "      --fill-color: #D2E3FC;\n",
              "      --hover-bg-color: #434B5C;\n",
              "      --hover-fill-color: #FFFFFF;\n",
              "      --disabled-bg-color: #3B4455;\n",
              "      --disabled-fill-color: #666;\n",
              "  }\n",
              "\n",
              "  .colab-df-quickchart {\n",
              "    background-color: var(--bg-color);\n",
              "    border: none;\n",
              "    border-radius: 50%;\n",
              "    cursor: pointer;\n",
              "    display: none;\n",
              "    fill: var(--fill-color);\n",
              "    height: 32px;\n",
              "    padding: 0;\n",
              "    width: 32px;\n",
              "  }\n",
              "\n",
              "  .colab-df-quickchart:hover {\n",
              "    background-color: var(--hover-bg-color);\n",
              "    box-shadow: 0 1px 2px rgba(60, 64, 67, 0.3), 0 1px 3px 1px rgba(60, 64, 67, 0.15);\n",
              "    fill: var(--button-hover-fill-color);\n",
              "  }\n",
              "\n",
              "  .colab-df-quickchart-complete:disabled,\n",
              "  .colab-df-quickchart-complete:disabled:hover {\n",
              "    background-color: var(--disabled-bg-color);\n",
              "    fill: var(--disabled-fill-color);\n",
              "    box-shadow: none;\n",
              "  }\n",
              "\n",
              "  .colab-df-spinner {\n",
              "    border: 2px solid var(--fill-color);\n",
              "    border-color: transparent;\n",
              "    border-bottom-color: var(--fill-color);\n",
              "    animation:\n",
              "      spin 1s steps(1) infinite;\n",
              "  }\n",
              "\n",
              "  @keyframes spin {\n",
              "    0% {\n",
              "      border-color: transparent;\n",
              "      border-bottom-color: var(--fill-color);\n",
              "      border-left-color: var(--fill-color);\n",
              "    }\n",
              "    20% {\n",
              "      border-color: transparent;\n",
              "      border-left-color: var(--fill-color);\n",
              "      border-top-color: var(--fill-color);\n",
              "    }\n",
              "    30% {\n",
              "      border-color: transparent;\n",
              "      border-left-color: var(--fill-color);\n",
              "      border-top-color: var(--fill-color);\n",
              "      border-right-color: var(--fill-color);\n",
              "    }\n",
              "    40% {\n",
              "      border-color: transparent;\n",
              "      border-right-color: var(--fill-color);\n",
              "      border-top-color: var(--fill-color);\n",
              "    }\n",
              "    60% {\n",
              "      border-color: transparent;\n",
              "      border-right-color: var(--fill-color);\n",
              "    }\n",
              "    80% {\n",
              "      border-color: transparent;\n",
              "      border-right-color: var(--fill-color);\n",
              "      border-bottom-color: var(--fill-color);\n",
              "    }\n",
              "    90% {\n",
              "      border-color: transparent;\n",
              "      border-bottom-color: var(--fill-color);\n",
              "    }\n",
              "  }\n",
              "</style>\n",
              "\n",
              "  <script>\n",
              "    async function quickchart(key) {\n",
              "      const quickchartButtonEl =\n",
              "        document.querySelector('#' + key + ' button');\n",
              "      quickchartButtonEl.disabled = true;  // To prevent multiple clicks.\n",
              "      quickchartButtonEl.classList.add('colab-df-spinner');\n",
              "      try {\n",
              "        const charts = await google.colab.kernel.invokeFunction(\n",
              "            'suggestCharts', [key], {});\n",
              "      } catch (error) {\n",
              "        console.error('Error during call to suggestCharts:', error);\n",
              "      }\n",
              "      quickchartButtonEl.classList.remove('colab-df-spinner');\n",
              "      quickchartButtonEl.classList.add('colab-df-quickchart-complete');\n",
              "    }\n",
              "    (() => {\n",
              "      let quickchartButtonEl =\n",
              "        document.querySelector('#df-02576f1d-cf85-49f3-aff2-aa56d54f5c31 button');\n",
              "      quickchartButtonEl.style.display =\n",
              "        google.colab.kernel.accessAllowed ? 'block' : 'none';\n",
              "    })();\n",
              "  </script>\n",
              "</div>\n",
              "\n",
              "    </div>\n",
              "  </div>\n"
            ],
            "application/vnd.google.colaboratory.intrinsic+json": {
              "type": "dataframe",
              "summary": "{\n  \"name\": \"matches\",\n  \"rows\": 8,\n  \"fields\": [\n    {\n      \"column\": \"id\",\n      \"properties\": {\n        \"dtype\": \"number\",\n        \"std\": 493351.95103732625,\n        \"min\": 1095.0,\n        \"max\": 1426312.0,\n        \"num_unique_values\": 8,\n        \"samples\": [\n          904828.3196347032,\n          980961.0,\n          1095.0\n        ],\n        \"semantic_type\": \"\",\n        \"description\": \"\"\n      }\n    },\n    {\n      \"column\": \"result_margin\",\n      \"properties\": {\n        \"dtype\": \"number\",\n        \"std\": 372.328279254616,\n        \"min\": 1.0,\n        \"max\": 1076.0,\n        \"num_unique_values\": 8,\n        \"samples\": [\n          17.259293680297397,\n          8.0,\n          1076.0\n        ],\n        \"semantic_type\": \"\",\n        \"description\": \"\"\n      }\n    },\n    {\n      \"column\": \"target_runs\",\n      \"properties\": {\n        \"dtype\": \"number\",\n        \"std\": 343.7768238710755,\n        \"min\": 33.42704825769165,\n        \"max\": 1092.0,\n        \"num_unique_values\": 8,\n        \"samples\": [\n          165.68406593406593,\n          166.0,\n          1092.0\n        ],\n        \"semantic_type\": \"\",\n        \"description\": \"\"\n      }\n    },\n    {\n      \"column\": \"target_overs\",\n      \"properties\": {\n        \"dtype\": \"number\",\n        \"std\": 380.7848009591625,\n        \"min\": 1.5811083157739847,\n        \"max\": 1092.0,\n        \"num_unique_values\": 5,\n        \"samples\": [\n          19.75934065934066,\n          20.0,\n          1.5811083157739847\n        ],\n        \"semantic_type\": \"\",\n        \"description\": \"\"\n      }\n    }\n  ]\n}"
            }
          },
          "metadata": {},
          "execution_count": 61
        }
      ]
    },
    {
      "cell_type": "markdown",
      "source": [
        "### **Data Cleaning**"
      ],
      "metadata": {
        "id": "PJAGkMR6Pl7m"
      }
    },
    {
      "cell_type": "code",
      "source": [
        "# Drop rows with missing values in the 'winner' column\n",
        "matches = matches.dropna(subset=['winner'])\n",
        "matches['player_of_match'].fillna('Unknown', inplace=True)\n",
        "\n",
        "# Data Cleaning and Preprocessing\n",
        "matches.dropna(subset=['winner'], inplace=True)\n",
        "matches['player_of_match'].fillna('Unknown', inplace=True)\n",
        "\n",
        "# Remove irrelevant columns\n",
        "matches.drop(columns=['city'], inplace=True)\n",
        "\n",
        "# Impute missing numerical values with medians\n",
        "for col in ['result_margin', 'target_runs', 'target_overs']:\n",
        "    matches[col].fillna(matches[col].median(), inplace=True)"
      ],
      "metadata": {
        "colab": {
          "base_uri": "https://localhost:8080/",
          "height": 0
        },
        "id": "gGemAB5kPbmA",
        "outputId": "5dd3d2d3-5939-477d-87a2-d2cef04d5b09"
      },
      "execution_count": 62,
      "outputs": [
        {
          "output_type": "stream",
          "name": "stderr",
          "text": [
            "<ipython-input-62-202f7ed546ff>:3: SettingWithCopyWarning: \n",
            "A value is trying to be set on a copy of a slice from a DataFrame\n",
            "\n",
            "See the caveats in the documentation: https://pandas.pydata.org/pandas-docs/stable/user_guide/indexing.html#returning-a-view-versus-a-copy\n",
            "  matches['player_of_match'].fillna('Unknown', inplace=True)\n",
            "<ipython-input-62-202f7ed546ff>:6: SettingWithCopyWarning: \n",
            "A value is trying to be set on a copy of a slice from a DataFrame\n",
            "\n",
            "See the caveats in the documentation: https://pandas.pydata.org/pandas-docs/stable/user_guide/indexing.html#returning-a-view-versus-a-copy\n",
            "  matches.dropna(subset=['winner'], inplace=True)\n",
            "<ipython-input-62-202f7ed546ff>:7: SettingWithCopyWarning: \n",
            "A value is trying to be set on a copy of a slice from a DataFrame\n",
            "\n",
            "See the caveats in the documentation: https://pandas.pydata.org/pandas-docs/stable/user_guide/indexing.html#returning-a-view-versus-a-copy\n",
            "  matches['player_of_match'].fillna('Unknown', inplace=True)\n",
            "<ipython-input-62-202f7ed546ff>:10: SettingWithCopyWarning: \n",
            "A value is trying to be set on a copy of a slice from a DataFrame\n",
            "\n",
            "See the caveats in the documentation: https://pandas.pydata.org/pandas-docs/stable/user_guide/indexing.html#returning-a-view-versus-a-copy\n",
            "  matches.drop(columns=['city'], inplace=True)\n",
            "<ipython-input-62-202f7ed546ff>:14: SettingWithCopyWarning: \n",
            "A value is trying to be set on a copy of a slice from a DataFrame\n",
            "\n",
            "See the caveats in the documentation: https://pandas.pydata.org/pandas-docs/stable/user_guide/indexing.html#returning-a-view-versus-a-copy\n",
            "  matches[col].fillna(matches[col].median(), inplace=True)\n",
            "<ipython-input-62-202f7ed546ff>:14: SettingWithCopyWarning: \n",
            "A value is trying to be set on a copy of a slice from a DataFrame\n",
            "\n",
            "See the caveats in the documentation: https://pandas.pydata.org/pandas-docs/stable/user_guide/indexing.html#returning-a-view-versus-a-copy\n",
            "  matches[col].fillna(matches[col].median(), inplace=True)\n",
            "<ipython-input-62-202f7ed546ff>:14: SettingWithCopyWarning: \n",
            "A value is trying to be set on a copy of a slice from a DataFrame\n",
            "\n",
            "See the caveats in the documentation: https://pandas.pydata.org/pandas-docs/stable/user_guide/indexing.html#returning-a-view-versus-a-copy\n",
            "  matches[col].fillna(matches[col].median(), inplace=True)\n"
          ]
        }
      ]
    },
    {
      "cell_type": "code",
      "source": [
        "# Inpute missing value in 'player_of_match'\n",
        "matches['player_of_match'] = matches['player_of_match'].fillna('Unknown')"
      ],
      "metadata": {
        "colab": {
          "base_uri": "https://localhost:8080/",
          "height": 0
        },
        "id": "l3maMbUWh8GF",
        "outputId": "60f4cbc4-f0b0-414c-8817-2e6ecfdf66a9"
      },
      "execution_count": 63,
      "outputs": [
        {
          "output_type": "stream",
          "name": "stderr",
          "text": [
            "<ipython-input-63-45e734c7d402>:2: SettingWithCopyWarning: \n",
            "A value is trying to be set on a copy of a slice from a DataFrame.\n",
            "Try using .loc[row_indexer,col_indexer] = value instead\n",
            "\n",
            "See the caveats in the documentation: https://pandas.pydata.org/pandas-docs/stable/user_guide/indexing.html#returning-a-view-versus-a-copy\n",
            "  matches['player_of_match'] = matches['player_of_match'].fillna('Unknown')\n"
          ]
        }
      ]
    },
    {
      "cell_type": "code",
      "source": [
        "import matplotlib.pyplot as plt\n",
        "\n",
        "columns_to_handle_missing = ['result_margin', 'target_runs', 'target_overs']\n",
        "\n",
        "# Plot box plots for each column\n",
        "plt.figure(figsize=(5, 6))\n",
        "matches[columns_to_handle_missing].boxplot()\n",
        "plt.title('Box plot of columns with missing values')\n",
        "plt.ylabel('Values')\n",
        "plt.xticks(rotation=45)\n",
        "plt.show()"
      ],
      "metadata": {
        "colab": {
          "base_uri": "https://localhost:8080/",
          "height": 608
        },
        "id": "ML6pqtuAh76C",
        "outputId": "60c3fd12-c0a5-4439-ae06-f65d5e52697e"
      },
      "execution_count": 64,
      "outputs": [
        {
          "output_type": "display_data",
          "data": {
            "text/plain": [
              "<Figure size 500x600 with 1 Axes>"
            ],
            "image/png": "[encoded data removed]"
          },
          "metadata": {}
        }
      ]
    },
    {
      "cell_type": "code",
      "source": [
        "# Impute selected columns with median because they have outliers\n",
        "\n",
        "matches['result_margin'] = matches['result_margin'].fillna(matches['result_margin'].median())\n",
        "matches['target_runs'] = matches['target_runs'].fillna(matches['target_runs'].median())\n",
        "matches['target_overs'] = matches['target_overs'].fillna(matches['target_overs'].median())"
      ],
      "metadata": {
        "id": "jPj5F6XBiGKh"
      },
      "execution_count": 65,
      "outputs": []
    },
    {
      "cell_type": "code",
      "source": [
        "matches.info()"
      ],
      "metadata": {
        "colab": {
          "base_uri": "https://localhost:8080/",
          "height": 0
        },
        "id": "BlIsVkZRiItN",
        "outputId": "06fc987e-1bae-4ef9-d6f0-8af3a139aad3"
      },
      "execution_count": 66,
      "outputs": [
        {
          "output_type": "stream",
          "name": "stdout",
          "text": [
            "<class 'pandas.core.frame.DataFrame'>\n",
            "Index: 1090 entries, 0 to 1094\n",
            "Data columns (total 19 columns):\n",
            " #   Column           Non-Null Count  Dtype  \n",
            "---  ------           --------------  -----  \n",
            " 0   id               1090 non-null   int64  \n",
            " 1   season           1090 non-null   object \n",
            " 2   date             1090 non-null   object \n",
            " 3   match_type       1090 non-null   object \n",
            " 4   player_of_match  1090 non-null   object \n",
            " 5   venue            1090 non-null   object \n",
            " 6   team1            1090 non-null   object \n",
            " 7   team2            1090 non-null   object \n",
            " 8   toss_winner      1090 non-null   object \n",
            " 9   toss_decision    1090 non-null   object \n",
            " 10  winner           1090 non-null   object \n",
            " 11  result           1090 non-null   object \n",
            " 12  result_margin    1090 non-null   float64\n",
            " 13  target_runs      1090 non-null   float64\n",
            " 14  target_overs     1090 non-null   float64\n",
            " 15  super_over       1090 non-null   object \n",
            " 16  method           21 non-null     object \n",
            " 17  umpire1          1090 non-null   object \n",
            " 18  umpire2          1090 non-null   object \n",
            "dtypes: float64(3), int64(1), object(15)\n",
            "memory usage: 170.3+ KB\n"
          ]
        }
      ]
    },
    {
      "cell_type": "code",
      "source": [
        "matches.nunique()"
      ],
      "metadata": {
        "colab": {
          "base_uri": "https://localhost:8080/",
          "height": 0
        },
        "id": "YAq5sbjciK9i",
        "outputId": "888b43b8-b488-4674-bf97-9d0266d09d4f"
      },
      "execution_count": 67,
      "outputs": [
        {
          "output_type": "execute_result",
          "data": {
            "text/plain": [
              "id                 1090\n",
              "season               17\n",
              "date                821\n",
              "match_type            8\n",
              "player_of_match     291\n",
              "venue                58\n",
              "team1                19\n",
              "team2                19\n",
              "toss_winner          19\n",
              "toss_decision         2\n",
              "winner               19\n",
              "result                3\n",
              "result_margin        98\n",
              "target_runs         169\n",
              "target_overs         15\n",
              "super_over            2\n",
              "method                1\n",
              "umpire1              62\n",
              "umpire2              62\n",
              "dtype: int64"
            ]
          },
          "metadata": {},
          "execution_count": 67
        }
      ]
    },
    {
      "cell_type": "markdown",
      "source": [
        "# Feature Engineering"
      ],
      "metadata": {
        "id": "26Mz1pcMKqGv"
      }
    },
    {
      "cell_type": "markdown",
      "source": [
        "Create new features:"
      ],
      "metadata": {
        "id": "D_hp0elIK0oh"
      }
    },
    {
      "cell_type": "code",
      "source": [
        "# Calculate win percentage for each team\n",
        "team_wins = matches['winner'].value_counts()\n",
        "total_matches = matches.groupby('team1').size() + matches.groupby('team2').size()\n",
        "win_percentage = team_wins / total_matches\n",
        "\n",
        "# Add win percentage as a feature\n",
        "matches['team1_win_pct'] = matches['team1'].map(win_percentage)\n",
        "matches['team2_win_pct'] = matches['team2'].map(win_percentage)\n",
        "\n",
        "# Create a feature for toss winner advantage\n",
        "matches['toss_winner_is_match_winner'] = (matches['toss_winner'] == matches['winner']).astype(int)\n",
        "\n",
        "# Extract year from date\n",
        "matches['year'] = pd.to_datetime(matches['date']).dt.year\n",
        "\n",
        "# Create a feature for number of matches played by each team in a season\n",
        "matches['team1_matches_played'] = matches.groupby(['season', 'team1']).cumcount() + 1\n",
        "matches['team2_matches_played'] = matches.groupby(['season', 'team2']).cumcount() + 1"
      ],
      "metadata": {
        "id": "NKBt_3EPHLWU"
      },
      "execution_count": 68,
      "outputs": []
    },
    {
      "cell_type": "markdown",
      "source": [
        "Encode categorical variables:"
      ],
      "metadata": {
        "id": "G8mtYMQbK2Kr"
      }
    },
    {
      "cell_type": "code",
      "source": [
        "from sklearn.preprocessing import LabelEncoder\n",
        "\n",
        "categorical_columns = ['season', 'match_type', 'venue', 'team1', 'team2', 'toss_winner', 'toss_decision', 'winner']\n",
        "\n",
        "le = LabelEncoder()\n",
        "for col in categorical_columns:\n",
        "    matches[col + '_encoded'] = le.fit_transform(matches[col])"
      ],
      "metadata": {
        "id": "JsaK8h21IHPv"
      },
      "execution_count": 69,
      "outputs": []
    },
    {
      "cell_type": "markdown",
      "source": [
        "Select features for the model:"
      ],
      "metadata": {
        "id": "GqD-7fyLK7Hb"
      }
    },
    {
      "cell_type": "code",
      "source": [
        "features = ['team1_win_pct', 'team2_win_pct', 'toss_winner_is_match_winner', 'year',\n",
        "            'team1_matches_played', 'team2_matches_played', 'team1_encoded', 'team2_encoded',\n",
        "            'toss_winner_encoded', 'toss_decision_encoded', 'venue_encoded']\n",
        "\n",
        "X = matches[features]\n",
        "y = matches['winner_encoded']"
      ],
      "metadata": {
        "id": "95bpjYlxIRSX"
      },
      "execution_count": 70,
      "outputs": []
    },
    {
      "cell_type": "markdown",
      "source": [
        "# Model Training"
      ],
      "metadata": {
        "id": "0U7cvuGqK8Ni"
      }
    },
    {
      "cell_type": "markdown",
      "source": [
        "Split the data:"
      ],
      "metadata": {
        "id": "B9b-pvl0LAND"
      }
    },
    {
      "cell_type": "code",
      "source": [
        "from sklearn.model_selection import train_test_split\n",
        "\n",
        "X_train, X_test, y_train, y_test = train_test_split(X, y, test_size=0.2, random_state=42)"
      ],
      "metadata": {
        "id": "xt7POmabITmW"
      },
      "execution_count": 71,
      "outputs": []
    },
    {
      "cell_type": "markdown",
      "source": [
        "Scale the features:"
      ],
      "metadata": {
        "id": "pk5qT2i9LCa7"
      }
    },
    {
      "cell_type": "code",
      "source": [
        "from sklearn.preprocessing import StandardScaler\n",
        "\n",
        "scaler = StandardScaler()\n",
        "X_train_scaled = scaler.fit_transform(X_train)\n",
        "X_test_scaled = scaler.transform(X_test)"
      ],
      "metadata": {
        "id": "IHFM6C9lIWXK"
      },
      "execution_count": 72,
      "outputs": []
    },
    {
      "cell_type": "markdown",
      "source": [
        "Train the Random Forest model"
      ],
      "metadata": {
        "id": "hdkKUrYPLFF9"
      }
    },
    {
      "cell_type": "code",
      "source": [
        "from sklearn.ensemble import RandomForestClassifier\n",
        "from sklearn.metrics import accuracy_score, classification_report\n",
        "\n",
        "rf_model = RandomForestClassifier(n_estimators=100, random_state=42)\n",
        "rf_model.fit(X_train_scaled, y_train)\n",
        "\n",
        "# Make predictions\n",
        "y_pred = rf_model.predict(X_test_scaled)\n",
        "\n",
        "# Evaluate the model\n",
        "accuracy = accuracy_score(y_test, y_pred)\n",
        "print(f\"Model Accuracy: {accuracy:.2f}\")\n",
        "print(\"\\nClassification Report:\")\n",
        "print(classification_report(y_test, y_pred))"
      ],
      "metadata": {
        "colab": {
          "base_uri": "https://localhost:8080/",
          "height": 0
        },
        "id": "d3DLqTesIYyq",
        "outputId": "692d41ae-204b-4b5d-d5bf-4d93f19ba6e2"
      },
      "execution_count": 73,
      "outputs": [
        {
          "output_type": "stream",
          "name": "stdout",
          "text": [
            "Model Accuracy: 0.72\n",
            "\n",
            "Classification Report:\n",
            "              precision    recall  f1-score   support\n",
            "\n",
            "           0       0.81      0.95      0.88        37\n",
            "           1       0.67      1.00      0.80         2\n",
            "           2       0.83      0.71      0.77         7\n",
            "           3       0.88      0.54      0.67        13\n",
            "           4       1.00      0.20      0.33         5\n",
            "           5       1.00      0.67      0.80         9\n",
            "           6       0.60      0.53      0.56        17\n",
            "           7       0.00      0.00      0.00         2\n",
            "           8       0.71      0.65      0.68        23\n",
            "           9       0.43      1.00      0.60         3\n",
            "          10       0.61      0.88      0.72        26\n",
            "          11       1.00      0.33      0.50         3\n",
            "          12       0.00      0.00      0.00         3\n",
            "          13       0.76      0.76      0.76        25\n",
            "          14       0.67      0.50      0.57         4\n",
            "          16       0.79      0.73      0.76        26\n",
            "          17       0.00      0.00      0.00         2\n",
            "          18       0.65      1.00      0.79        11\n",
            "\n",
            "    accuracy                           0.72       218\n",
            "   macro avg       0.63      0.58      0.57       218\n",
            "weighted avg       0.73      0.72      0.71       218\n",
            "\n"
          ]
        },
        {
          "output_type": "stream",
          "name": "stderr",
          "text": [
            "/usr/local/lib/python3.10/dist-packages/sklearn/metrics/_classification.py:1344: UndefinedMetricWarning: Precision and F-score are ill-defined and being set to 0.0 in labels with no predicted samples. Use `zero_division` parameter to control this behavior.\n",
            "  _warn_prf(average, modifier, msg_start, len(result))\n",
            "/usr/local/lib/python3.10/dist-packages/sklearn/metrics/_classification.py:1344: UndefinedMetricWarning: Precision and F-score are ill-defined and being set to 0.0 in labels with no predicted samples. Use `zero_division` parameter to control this behavior.\n",
            "  _warn_prf(average, modifier, msg_start, len(result))\n",
            "/usr/local/lib/python3.10/dist-packages/sklearn/metrics/_classification.py:1344: UndefinedMetricWarning: Precision and F-score are ill-defined and being set to 0.0 in labels with no predicted samples. Use `zero_division` parameter to control this behavior.\n",
            "  _warn_prf(average, modifier, msg_start, len(result))\n"
          ]
        }
      ]
    },
    {
      "cell_type": "markdown",
      "source": [
        "Feature importance:"
      ],
      "metadata": {
        "id": "5y_OXh0fLImt"
      }
    },
    {
      "cell_type": "code",
      "source": [
        "feature_importance = pd.DataFrame({'feature': features, 'importance': rf_model.feature_importances_})\n",
        "feature_importance = feature_importance.sort_values('importance', ascending=False)\n",
        "print(\"\\nFeature Importance:\")\n",
        "print(feature_importance)"
      ],
      "metadata": {
        "colab": {
          "base_uri": "https://localhost:8080/",
          "height": 0
        },
        "id": "uBDXQmk2IeYI",
        "outputId": "f5fa758e-4be3-4598-9a2e-51b6fa553770"
      },
      "execution_count": 74,
      "outputs": [
        {
          "output_type": "stream",
          "name": "stdout",
          "text": [
            "\n",
            "Feature Importance:\n",
            "                        feature  importance\n",
            "8           toss_winner_encoded    0.129126\n",
            "6                 team1_encoded    0.119441\n",
            "0                 team1_win_pct    0.114717\n",
            "1                 team2_win_pct    0.110601\n",
            "7                 team2_encoded    0.106889\n",
            "3                          year    0.097889\n",
            "10                venue_encoded    0.088305\n",
            "2   toss_winner_is_match_winner    0.077238\n",
            "4          team1_matches_played    0.066791\n",
            "5          team2_matches_played    0.065550\n",
            "9         toss_decision_encoded    0.023453\n"
          ]
        }
      ]
    },
    {
      "cell_type": "markdown",
      "source": [
        "Hyperparameter tuning:"
      ],
      "metadata": {
        "id": "0lcU22k0LMl6"
      }
    },
    {
      "cell_type": "code",
      "source": [
        "from sklearn.model_selection import GridSearchCV\n",
        "\n",
        "param_grid = {\n",
        "    'n_estimators': [50, 100, 200],\n",
        "    'max_depth': [None, 10, 20, 30],\n",
        "    'min_samples_split': [2, 5, 10],\n",
        "    'min_samples_leaf': [1, 2, 4]\n",
        "}\n",
        "\n",
        "grid_search = GridSearchCV(RandomForestClassifier(random_state=42), param_grid, cv=5, n_jobs=-1)\n",
        "grid_search.fit(X_train_scaled, y_train)\n",
        "\n",
        "print(\"\\nBest parameters:\", grid_search.best_params_)\n",
        "print(\"Best cross-validation score:\", grid_search.best_score_)\n",
        "\n",
        "# Use the best model\n",
        "best_rf_model = grid_search.best_estimator_"
      ],
      "metadata": {
        "colab": {
          "base_uri": "https://localhost:8080/",
          "height": 0
        },
        "id": "0O42GQUsIh7f",
        "outputId": "02034e1c-a7ea-45a0-95e7-d5daa5116894"
      },
      "execution_count": 75,
      "outputs": [
        {
          "output_type": "stream",
          "name": "stderr",
          "text": [
            "/usr/local/lib/python3.10/dist-packages/sklearn/model_selection/_split.py:700: UserWarning: The least populated class in y has only 4 members, which is less than n_splits=5.\n",
            "  warnings.warn(\n"
          ]
        },
        {
          "output_type": "stream",
          "name": "stdout",
          "text": [
            "\n",
            "Best parameters: {'max_depth': None, 'min_samples_leaf': 1, 'min_samples_split': 2, 'n_estimators': 200}\n",
            "Best cross-validation score: 0.7121444991789818\n"
          ]
        }
      ]
    },
    {
      "cell_type": "markdown",
      "source": [
        "Predictions for 2025 Season:"
      ],
      "metadata": {
        "id": "AHna3MawLrTX"
      }
    },
    {
      "cell_type": "code",
      "source": [
        "def generate_2025_matches(matches, num_matches=60):\n",
        "    teams = pd.concat([matches['team1'], matches['team2']]).unique()\n",
        "\n",
        "    matches_2025 = pd.DataFrame()\n",
        "    matches_2025['team1'] = np.random.choice(teams, num_matches)\n",
        "    matches_2025['team2'] = np.random.choice(teams, num_matches)\n",
        "\n",
        "    # Ensure team1 and team2 are different\n",
        "    same_team = matches_2025['team1'] == matches_2025['team2']\n",
        "    while same_team.any():\n",
        "        matches_2025.loc[same_team, 'team2'] = np.random.choice(teams, same_team.sum())\n",
        "        same_team = matches_2025['team1'] == matches_2025['team2']\n",
        "\n",
        "    matches_2025['toss_winner'] = np.random.choice(['team1', 'team2'], num_matches)\n",
        "    matches_2025['toss_decision'] = np.random.choice(['bat', 'field'], num_matches)\n",
        "    matches_2025['venue'] = np.random.choice(matches['venue'].unique(), num_matches)\n",
        "\n",
        "    matches_2025['year'] = 2025\n",
        "    matches_2025['season'] = '2025'\n",
        "\n",
        "    matches_2025['team1_win_pct'] = matches_2025['team1'].map(win_percentage)\n",
        "    matches_2025['team2_win_pct'] = matches_2025['team2'].map(win_percentage)\n",
        "\n",
        "    matches_2025['toss_winner_is_match_winner'] = np.random.randint(0, 2, num_matches)\n",
        "    matches_2025['team1_matches_played'] = np.random.randint(1, 15, num_matches)\n",
        "    matches_2025['team2_matches_played'] = np.random.randint(1, 15, num_matches)\n",
        "\n",
        "    for col in categorical_columns:\n",
        "        matches_2025[col + '_encoded'] = le.transform(matches_2025[col])\n",
        "\n",
        "    return matches_2025\n"
      ],
      "metadata": {
        "id": "vvAcZLWXKAZo"
      },
      "execution_count": 76,
      "outputs": []
    },
    {
      "cell_type": "code",
      "source": [
        "# Generate 2025 matches\n",
        "matches_2025 = generate_2025_matches(matches)\n",
        "\n",
        "# Prepare features for 2025 matches\n",
        "X_2025 = matches_2025[features]\n",
        "\n",
        "# Scale the features\n",
        "X_2025_scaled = scaler.transform(X_2025)\n",
        "\n",
        "# Make predictions\n",
        "predictions_2025 = rf_model.predict(X_2025_scaled)\n",
        "\n",
        "# Map the encoded predictions back to team names\n",
        "predicted_winners = le.inverse_transform(predictions_2025)\n",
        "\n",
        "print(\"\\nPredicted winners for 2025 season:\")\n",
        "print(predicted_winners)\n",
        "\n",
        "# Calculate the frequency of predicted winners\n",
        "winner_counts = pd.Series(predicted_winners).value_counts()\n",
        "\n",
        "plt.figure(figsize=(12, 6))\n",
        "winner_counts.plot(kind='bar')\n",
        "plt.title('Predicted Winners for 2025 IPL Season')\n",
        "plt.xlabel('Teams')\n",
        "plt.ylabel('Number of Predicted Wins')\n",
        "plt.xticks(rotation=45)\n",
        "plt.tight_layout()\n",
        "plt.show()\n"
      ],
      "metadata": {
        "colab": {
          "base_uri": "https://localhost:8080/",
          "height": 472
        },
        "id": "dD3nxt0ENJQo",
        "outputId": "faa7e4f7-b436-4b38-c243-5734438a8f75"
      },
      "execution_count": 77,
      "outputs": [
        {
          "output_type": "error",
          "ename": "ValueError",
          "evalue": "y contains previously unseen labels: '2025'",
          "traceback": [
            "\u001b[0;31m---------------------------------------------------------------------------\u001b[0m",
            "\u001b[0;31mKeyError\u001b[0m                                  Traceback (most recent call last)",
            "\u001b[0;32m/usr/local/lib/python3.10/dist-packages/sklearn/utils/_encode.py\u001b[0m in \u001b[0;36m_encode\u001b[0;34m(values, uniques, check_unknown)\u001b[0m\n\u001b[1;32m    223\u001b[0m         \u001b[0;32mtry\u001b[0m\u001b[0;34m:\u001b[0m\u001b[0;34m\u001b[0m\u001b[0;34m\u001b[0m\u001b[0m\n\u001b[0;32m--> 224\u001b[0;31m             \u001b[0;32mreturn\u001b[0m \u001b[0m_map_to_integer\u001b[0m\u001b[0;34m(\u001b[0m\u001b[0mvalues\u001b[0m\u001b[0;34m,\u001b[0m \u001b[0muniques\u001b[0m\u001b[0;34m)\u001b[0m\u001b[0;34m\u001b[0m\u001b[0;34m\u001b[0m\u001b[0m\n\u001b[0m\u001b[1;32m    225\u001b[0m         \u001b[0;32mexcept\u001b[0m \u001b[0mKeyError\u001b[0m \u001b[0;32mas\u001b[0m \u001b[0me\u001b[0m\u001b[0;34m:\u001b[0m\u001b[0;34m\u001b[0m\u001b[0;34m\u001b[0m\u001b[0m\n",
            "\u001b[0;32m/usr/local/lib/python3.10/dist-packages/sklearn/utils/_encode.py\u001b[0m in \u001b[0;36m_map_to_integer\u001b[0;34m(values, uniques)\u001b[0m\n\u001b[1;32m    163\u001b[0m     \u001b[0mtable\u001b[0m \u001b[0;34m=\u001b[0m \u001b[0m_nandict\u001b[0m\u001b[0;34m(\u001b[0m\u001b[0;34m{\u001b[0m\u001b[0mval\u001b[0m\u001b[0;34m:\u001b[0m \u001b[0mi\u001b[0m \u001b[0;32mfor\u001b[0m \u001b[0mi\u001b[0m\u001b[0;34m,\u001b[0m \u001b[0mval\u001b[0m \u001b[0;32min\u001b[0m \u001b[0menumerate\u001b[0m\u001b[0;34m(\u001b[0m\u001b[0muniques\u001b[0m\u001b[0;34m)\u001b[0m\u001b[0;34m}\u001b[0m\u001b[0;34m)\u001b[0m\u001b[0;34m\u001b[0m\u001b[0;34m\u001b[0m\u001b[0m\n\u001b[0;32m--> 164\u001b[0;31m     \u001b[0;32mreturn\u001b[0m \u001b[0mnp\u001b[0m\u001b[0;34m.\u001b[0m\u001b[0marray\u001b[0m\u001b[0;34m(\u001b[0m\u001b[0;34m[\u001b[0m\u001b[0mtable\u001b[0m\u001b[0;34m[\u001b[0m\u001b[0mv\u001b[0m\u001b[0;34m]\u001b[0m \u001b[0;32mfor\u001b[0m \u001b[0mv\u001b[0m \u001b[0;32min\u001b[0m \u001b[0mvalues\u001b[0m\u001b[0;34m]\u001b[0m\u001b[0;34m)\u001b[0m\u001b[0;34m\u001b[0m\u001b[0;34m\u001b[0m\u001b[0m\n\u001b[0m\u001b[1;32m    165\u001b[0m \u001b[0;34m\u001b[0m\u001b[0m\n",
            "\u001b[0;32m/usr/local/lib/python3.10/dist-packages/sklearn/utils/_encode.py\u001b[0m in \u001b[0;36m<listcomp>\u001b[0;34m(.0)\u001b[0m\n\u001b[1;32m    163\u001b[0m     \u001b[0mtable\u001b[0m \u001b[0;34m=\u001b[0m \u001b[0m_nandict\u001b[0m\u001b[0;34m(\u001b[0m\u001b[0;34m{\u001b[0m\u001b[0mval\u001b[0m\u001b[0;34m:\u001b[0m \u001b[0mi\u001b[0m \u001b[0;32mfor\u001b[0m \u001b[0mi\u001b[0m\u001b[0;34m,\u001b[0m \u001b[0mval\u001b[0m \u001b[0;32min\u001b[0m \u001b[0menumerate\u001b[0m\u001b[0;34m(\u001b[0m\u001b[0muniques\u001b[0m\u001b[0;34m)\u001b[0m\u001b[0;34m}\u001b[0m\u001b[0;34m)\u001b[0m\u001b[0;34m\u001b[0m\u001b[0;34m\u001b[0m\u001b[0m\n\u001b[0;32m--> 164\u001b[0;31m     \u001b[0;32mreturn\u001b[0m \u001b[0mnp\u001b[0m\u001b[0;34m.\u001b[0m\u001b[0marray\u001b[0m\u001b[0;34m(\u001b[0m\u001b[0;34m[\u001b[0m\u001b[0mtable\u001b[0m\u001b[0;34m[\u001b[0m\u001b[0mv\u001b[0m\u001b[0;34m]\u001b[0m \u001b[0;32mfor\u001b[0m \u001b[0mv\u001b[0m \u001b[0;32min\u001b[0m \u001b[0mvalues\u001b[0m\u001b[0;34m]\u001b[0m\u001b[0;34m)\u001b[0m\u001b[0;34m\u001b[0m\u001b[0;34m\u001b[0m\u001b[0m\n\u001b[0m\u001b[1;32m    165\u001b[0m \u001b[0;34m\u001b[0m\u001b[0m\n",
            "\u001b[0;32m/usr/local/lib/python3.10/dist-packages/sklearn/utils/_encode.py\u001b[0m in \u001b[0;36m__missing__\u001b[0;34m(self, key)\u001b[0m\n\u001b[1;32m    157\u001b[0m             \u001b[0;32mreturn\u001b[0m \u001b[0mself\u001b[0m\u001b[0;34m.\u001b[0m\u001b[0mnan_value\u001b[0m\u001b[0;34m\u001b[0m\u001b[0;34m\u001b[0m\u001b[0m\n\u001b[0;32m--> 158\u001b[0;31m         \u001b[0;32mraise\u001b[0m \u001b[0mKeyError\u001b[0m\u001b[0;34m(\u001b[0m\u001b[0mkey\u001b[0m\u001b[0;34m)\u001b[0m\u001b[0;34m\u001b[0m\u001b[0;34m\u001b[0m\u001b[0m\n\u001b[0m\u001b[1;32m    159\u001b[0m \u001b[0;34m\u001b[0m\u001b[0m\n",
            "\u001b[0;31mKeyError\u001b[0m: '2025'",
            "\nDuring handling of the above exception, another exception occurred:\n",
            "\u001b[0;31mValueError\u001b[0m                                Traceback (most recent call last)",
            "\u001b[0;32m<ipython-input-77-f668abe73aec>\u001b[0m in \u001b[0;36m<cell line: 2>\u001b[0;34m()\u001b[0m\n\u001b[1;32m      1\u001b[0m \u001b[0;31m# Generate 2025 matches\u001b[0m\u001b[0;34m\u001b[0m\u001b[0;34m\u001b[0m\u001b[0m\n\u001b[0;32m----> 2\u001b[0;31m \u001b[0mmatches_2025\u001b[0m \u001b[0;34m=\u001b[0m \u001b[0mgenerate_2025_matches\u001b[0m\u001b[0;34m(\u001b[0m\u001b[0mmatches\u001b[0m\u001b[0;34m)\u001b[0m\u001b[0;34m\u001b[0m\u001b[0;34m\u001b[0m\u001b[0m\n\u001b[0m\u001b[1;32m      3\u001b[0m \u001b[0;34m\u001b[0m\u001b[0m\n\u001b[1;32m      4\u001b[0m \u001b[0;31m# Prepare features for 2025 matches\u001b[0m\u001b[0;34m\u001b[0m\u001b[0;34m\u001b[0m\u001b[0m\n\u001b[1;32m      5\u001b[0m \u001b[0mX_2025\u001b[0m \u001b[0;34m=\u001b[0m \u001b[0mmatches_2025\u001b[0m\u001b[0;34m[\u001b[0m\u001b[0mfeatures\u001b[0m\u001b[0;34m]\u001b[0m\u001b[0;34m\u001b[0m\u001b[0;34m\u001b[0m\u001b[0m\n",
            "\u001b[0;32m<ipython-input-76-750756774867>\u001b[0m in \u001b[0;36mgenerate_2025_matches\u001b[0;34m(matches, num_matches)\u001b[0m\n\u001b[1;32m     27\u001b[0m \u001b[0;34m\u001b[0m\u001b[0m\n\u001b[1;32m     28\u001b[0m     \u001b[0;32mfor\u001b[0m \u001b[0mcol\u001b[0m \u001b[0;32min\u001b[0m \u001b[0mcategorical_columns\u001b[0m\u001b[0;34m:\u001b[0m\u001b[0;34m\u001b[0m\u001b[0;34m\u001b[0m\u001b[0m\n\u001b[0;32m---> 29\u001b[0;31m         \u001b[0mmatches_2025\u001b[0m\u001b[0;34m[\u001b[0m\u001b[0mcol\u001b[0m \u001b[0;34m+\u001b[0m \u001b[0;34m'_encoded'\u001b[0m\u001b[0;34m]\u001b[0m \u001b[0;34m=\u001b[0m \u001b[0mle\u001b[0m\u001b[0;34m.\u001b[0m\u001b[0mtransform\u001b[0m\u001b[0;34m(\u001b[0m\u001b[0mmatches_2025\u001b[0m\u001b[0;34m[\u001b[0m\u001b[0mcol\u001b[0m\u001b[0;34m]\u001b[0m\u001b[0;34m)\u001b[0m\u001b[0;34m\u001b[0m\u001b[0;34m\u001b[0m\u001b[0m\n\u001b[0m\u001b[1;32m     30\u001b[0m \u001b[0;34m\u001b[0m\u001b[0m\n\u001b[1;32m     31\u001b[0m     \u001b[0;32mreturn\u001b[0m \u001b[0mmatches_2025\u001b[0m\u001b[0;34m\u001b[0m\u001b[0;34m\u001b[0m\u001b[0m\n",
            "\u001b[0;32m/usr/local/lib/python3.10/dist-packages/sklearn/utils/_set_output.py\u001b[0m in \u001b[0;36mwrapped\u001b[0;34m(self, X, *args, **kwargs)\u001b[0m\n\u001b[1;32m    138\u001b[0m     \u001b[0;34m@\u001b[0m\u001b[0mwraps\u001b[0m\u001b[0;34m(\u001b[0m\u001b[0mf\u001b[0m\u001b[0;34m)\u001b[0m\u001b[0;34m\u001b[0m\u001b[0;34m\u001b[0m\u001b[0m\n\u001b[1;32m    139\u001b[0m     \u001b[0;32mdef\u001b[0m \u001b[0mwrapped\u001b[0m\u001b[0;34m(\u001b[0m\u001b[0mself\u001b[0m\u001b[0;34m,\u001b[0m \u001b[0mX\u001b[0m\u001b[0;34m,\u001b[0m \u001b[0;34m*\u001b[0m\u001b[0margs\u001b[0m\u001b[0;34m,\u001b[0m \u001b[0;34m**\u001b[0m\u001b[0mkwargs\u001b[0m\u001b[0;34m)\u001b[0m\u001b[0;34m:\u001b[0m\u001b[0;34m\u001b[0m\u001b[0;34m\u001b[0m\u001b[0m\n\u001b[0;32m--> 140\u001b[0;31m         \u001b[0mdata_to_wrap\u001b[0m \u001b[0;34m=\u001b[0m \u001b[0mf\u001b[0m\u001b[0;34m(\u001b[0m\u001b[0mself\u001b[0m\u001b[0;34m,\u001b[0m \u001b[0mX\u001b[0m\u001b[0;34m,\u001b[0m \u001b[0;34m*\u001b[0m\u001b[0margs\u001b[0m\u001b[0;34m,\u001b[0m \u001b[0;34m**\u001b[0m\u001b[0mkwargs\u001b[0m\u001b[0;34m)\u001b[0m\u001b[0;34m\u001b[0m\u001b[0;34m\u001b[0m\u001b[0m\n\u001b[0m\u001b[1;32m    141\u001b[0m         \u001b[0;32mif\u001b[0m \u001b[0misinstance\u001b[0m\u001b[0;34m(\u001b[0m\u001b[0mdata_to_wrap\u001b[0m\u001b[0;34m,\u001b[0m \u001b[0mtuple\u001b[0m\u001b[0;34m)\u001b[0m\u001b[0;34m:\u001b[0m\u001b[0;34m\u001b[0m\u001b[0;34m\u001b[0m\u001b[0m\n\u001b[1;32m    142\u001b[0m             \u001b[0;31m# only wrap the first output for cross decomposition\u001b[0m\u001b[0;34m\u001b[0m\u001b[0;34m\u001b[0m\u001b[0m\n",
            "\u001b[0;32m/usr/local/lib/python3.10/dist-packages/sklearn/preprocessing/_label.py\u001b[0m in \u001b[0;36mtransform\u001b[0;34m(self, y)\u001b[0m\n\u001b[1;32m    137\u001b[0m             \u001b[0;32mreturn\u001b[0m \u001b[0mnp\u001b[0m\u001b[0;34m.\u001b[0m\u001b[0marray\u001b[0m\u001b[0;34m(\u001b[0m\u001b[0;34m[\u001b[0m\u001b[0;34m]\u001b[0m\u001b[0;34m)\u001b[0m\u001b[0;34m\u001b[0m\u001b[0;34m\u001b[0m\u001b[0m\n\u001b[1;32m    138\u001b[0m \u001b[0;34m\u001b[0m\u001b[0m\n\u001b[0;32m--> 139\u001b[0;31m         \u001b[0;32mreturn\u001b[0m \u001b[0m_encode\u001b[0m\u001b[0;34m(\u001b[0m\u001b[0my\u001b[0m\u001b[0;34m,\u001b[0m \u001b[0muniques\u001b[0m\u001b[0;34m=\u001b[0m\u001b[0mself\u001b[0m\u001b[0;34m.\u001b[0m\u001b[0mclasses_\u001b[0m\u001b[0;34m)\u001b[0m\u001b[0;34m\u001b[0m\u001b[0;34m\u001b[0m\u001b[0m\n\u001b[0m\u001b[1;32m    140\u001b[0m \u001b[0;34m\u001b[0m\u001b[0m\n\u001b[1;32m    141\u001b[0m     \u001b[0;32mdef\u001b[0m \u001b[0minverse_transform\u001b[0m\u001b[0;34m(\u001b[0m\u001b[0mself\u001b[0m\u001b[0;34m,\u001b[0m \u001b[0my\u001b[0m\u001b[0;34m)\u001b[0m\u001b[0;34m:\u001b[0m\u001b[0;34m\u001b[0m\u001b[0;34m\u001b[0m\u001b[0m\n",
            "\u001b[0;32m/usr/local/lib/python3.10/dist-packages/sklearn/utils/_encode.py\u001b[0m in \u001b[0;36m_encode\u001b[0;34m(values, uniques, check_unknown)\u001b[0m\n\u001b[1;32m    224\u001b[0m             \u001b[0;32mreturn\u001b[0m \u001b[0m_map_to_integer\u001b[0m\u001b[0;34m(\u001b[0m\u001b[0mvalues\u001b[0m\u001b[0;34m,\u001b[0m \u001b[0muniques\u001b[0m\u001b[0;34m)\u001b[0m\u001b[0;34m\u001b[0m\u001b[0;34m\u001b[0m\u001b[0m\n\u001b[1;32m    225\u001b[0m         \u001b[0;32mexcept\u001b[0m \u001b[0mKeyError\u001b[0m \u001b[0;32mas\u001b[0m \u001b[0me\u001b[0m\u001b[0;34m:\u001b[0m\u001b[0;34m\u001b[0m\u001b[0;34m\u001b[0m\u001b[0m\n\u001b[0;32m--> 226\u001b[0;31m             \u001b[0;32mraise\u001b[0m \u001b[0mValueError\u001b[0m\u001b[0;34m(\u001b[0m\u001b[0;34mf\"y contains previously unseen labels: {str(e)}\"\u001b[0m\u001b[0;34m)\u001b[0m\u001b[0;34m\u001b[0m\u001b[0;34m\u001b[0m\u001b[0m\n\u001b[0m\u001b[1;32m    227\u001b[0m     \u001b[0;32melse\u001b[0m\u001b[0;34m:\u001b[0m\u001b[0;34m\u001b[0m\u001b[0;34m\u001b[0m\u001b[0m\n\u001b[1;32m    228\u001b[0m         \u001b[0;32mif\u001b[0m \u001b[0mcheck_unknown\u001b[0m\u001b[0;34m:\u001b[0m\u001b[0;34m\u001b[0m\u001b[0;34m\u001b[0m\u001b[0m\n",
            "\u001b[0;31mValueError\u001b[0m: y contains previously unseen labels: '2025'"
          ]
        }
      ]
    }
  ]
}