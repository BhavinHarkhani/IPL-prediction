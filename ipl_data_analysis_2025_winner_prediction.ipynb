{
  "metadata": {
    "kernelspec": {
      "language": "python",
      "display_name": "Python 3",
      "name": "python3"
    },
    "language_info": {
      "name": "python",
      "version": "3.10.13",
      "mimetype": "text/x-python",
      "codemirror_mode": {
        "name": "ipython",
        "version": 3
      },
      "pygments_lexer": "ipython3",
      "nbconvert_exporter": "python",
      "file_extension": ".py"
    },
    "kaggle": {
      "accelerator": "nvidiaTeslaT4",
      "dataSources": [
        {
          "sourceId": 8637500,
          "sourceType": "datasetVersion",
          "datasetId": 990900
        }
      ],
      "dockerImageVersionId": 30732,
      "isInternetEnabled": false,
      "language": "python",
      "sourceType": "notebook",
      "isGpuEnabled": true
    },
    "colab": {
      "provenance": []
    }
  },
  "nbformat_minor": 0,
  "nbformat": 4,
  "cells": [
    {
      "cell_type": "markdown",
      "source": [
        "# **IPL Data Analysis and 2025 winner prediction model**\n",
        "\n",
        "This notebook presents a comprehensive analysis of Indian Premier League (IPL) data from the inception of the league in 2008 through to the most recent season in 2024, with the goal of uncovering key insights, trends, and patterns within the data. It includes data collection and preprocessing steps, exploratory data analysis (EDA) to visualize key metrics such as win rates, player performance, and team statistics, and statistical insights to identify significant factors influencing match outcomes. The notebook then introduces a Random Forest Classification model to predict the winner of the 2025 IPL season, explaining the model’s features, training, validation, and performance evaluation. The results section presents the model’s predictions for the 2025 season, discusses the potential strengths and limitations of the model, and provides insights into the predicted performance of teams and key players. The primary objective is to leverage historical IPL data to build a predictive model that forecasts future match outcomes, offering a data-driven prediction for the 2025 IPL winner while illustrating the application of machine learning techniques to real-world sports data.\n"
      ],
      "metadata": {
        "id": "bvV_NdwjPl7g"
      }
    },
    {
      "cell_type": "code",
      "source": [
        "# This Python 3 environment comes with many helpful analytics libraries installed\n",
        "# It is defined by the kaggle/python Docker image: https://github.com/kaggle/docker-python\n",
        "# For example, here's several helpful packages to load\n",
        "\n",
        "import numpy as np # linear algebra\n",
        "import pandas as pd # data processing, CSV file I/O (e.g. pd.read_csv)\n",
        "import os\n",
        "for dirname, _, filenames in os.walk('/kaggle/input'):\n",
        "    for filename in filenames:\n",
        "        print(os.path.join(dirname, filename))\n",
        "\n",
        "# You can write up to 20GB to the current directory (/kaggle/working/) that gets preserved as output when you create a version using \"Save & Run All\"\n",
        "# You can also write temporary files to /kaggle/temp/, but they won't be saved outside of the current session"
      ],
      "metadata": {
        "_uuid": "8f2839f25d086af736a60e9eeb907d3b93b6e0e5",
        "_cell_guid": "b1076dfc-b9ad-4769-8c92-a6c4dae69d19",
        "execution": {
          "iopub.status.busy": "2024-06-12T18:29:59.604052Z",
          "iopub.execute_input": "2024-06-12T18:29:59.604348Z",
          "iopub.status.idle": "2024-06-12T18:30:00.817548Z",
          "shell.execute_reply.started": "2024-06-12T18:29:59.604322Z",
          "shell.execute_reply": "2024-06-12T18:30:00.816504Z"
        },
        "trusted": true,
        "id": "yb-VUwiSPl7j"
      },
      "execution_count": 3,
      "outputs": []
    },
    {
      "cell_type": "code",
      "source": [
        "deliveries_df = pd.read_csv('/deliveries.csv')\n",
        "matches_df = pd.read_csv('/matches.csv')\n",
        "\n",
        "print(\"Deliveries shape:\", deliveries_df.shape)\n",
        "print(\"Matches shape:\", matches_df.shape)\n",
        "\n",
        "deliveries = deliveries_df.copy()\n",
        "matches = matches_df.copy()"
      ],
      "metadata": {
        "execution": {
          "iopub.status.busy": "2024-06-12T18:30:00.819307Z",
          "iopub.execute_input": "2024-06-12T18:30:00.819728Z",
          "iopub.status.idle": "2024-06-12T18:30:01.986786Z",
          "shell.execute_reply.started": "2024-06-12T18:30:00.819698Z",
          "shell.execute_reply": "2024-06-12T18:30:01.985767Z"
        },
        "trusted": true,
        "colab": {
          "base_uri": "https://localhost:8080/",
          "height": 400
        },
        "id": "EV0RbfFgPl7k",
        "outputId": "62ecaa58-9a97-43ab-9ab3-3b66622fb21f"
      },
      "execution_count": 4,
      "outputs": [
        {
          "output_type": "error",
          "ename": "FileNotFoundError",
          "evalue": "[Errno 2] No such file or directory: '/deliveries.csv'",
          "traceback": [
            "\u001b[0;31m---------------------------------------------------------------------------\u001b[0m",
            "\u001b[0;31mFileNotFoundError\u001b[0m                         Traceback (most recent call last)",
            "\u001b[0;32m<ipython-input-4-1ec3625d7993>\u001b[0m in \u001b[0;36m<cell line: 1>\u001b[0;34m()\u001b[0m\n\u001b[0;32m----> 1\u001b[0;31m \u001b[0mdeliveries_df\u001b[0m \u001b[0;34m=\u001b[0m \u001b[0mpd\u001b[0m\u001b[0;34m.\u001b[0m\u001b[0mread_csv\u001b[0m\u001b[0;34m(\u001b[0m\u001b[0;34m'/deliveries.csv'\u001b[0m\u001b[0;34m)\u001b[0m\u001b[0;34m\u001b[0m\u001b[0;34m\u001b[0m\u001b[0m\n\u001b[0m\u001b[1;32m      2\u001b[0m \u001b[0mmatches_df\u001b[0m \u001b[0;34m=\u001b[0m \u001b[0mpd\u001b[0m\u001b[0;34m.\u001b[0m\u001b[0mread_csv\u001b[0m\u001b[0;34m(\u001b[0m\u001b[0;34m'/matches.csv'\u001b[0m\u001b[0;34m)\u001b[0m\u001b[0;34m\u001b[0m\u001b[0;34m\u001b[0m\u001b[0m\n\u001b[1;32m      3\u001b[0m \u001b[0;34m\u001b[0m\u001b[0m\n\u001b[1;32m      4\u001b[0m \u001b[0mprint\u001b[0m\u001b[0;34m(\u001b[0m\u001b[0;34m\"Deliveries shape:\"\u001b[0m\u001b[0;34m,\u001b[0m \u001b[0mdeliveries_df\u001b[0m\u001b[0;34m.\u001b[0m\u001b[0mshape\u001b[0m\u001b[0;34m)\u001b[0m\u001b[0;34m\u001b[0m\u001b[0;34m\u001b[0m\u001b[0m\n\u001b[1;32m      5\u001b[0m \u001b[0mprint\u001b[0m\u001b[0;34m(\u001b[0m\u001b[0;34m\"Matches shape:\"\u001b[0m\u001b[0;34m,\u001b[0m \u001b[0mmatches_df\u001b[0m\u001b[0;34m.\u001b[0m\u001b[0mshape\u001b[0m\u001b[0;34m)\u001b[0m\u001b[0;34m\u001b[0m\u001b[0;34m\u001b[0m\u001b[0m\n",
            "\u001b[0;32m/usr/local/lib/python3.10/dist-packages/pandas/io/parsers/readers.py\u001b[0m in \u001b[0;36mread_csv\u001b[0;34m(filepath_or_buffer, sep, delimiter, header, names, index_col, usecols, dtype, engine, converters, true_values, false_values, skipinitialspace, skiprows, skipfooter, nrows, na_values, keep_default_na, na_filter, verbose, skip_blank_lines, parse_dates, infer_datetime_format, keep_date_col, date_parser, date_format, dayfirst, cache_dates, iterator, chunksize, compression, thousands, decimal, lineterminator, quotechar, quoting, doublequote, escapechar, comment, encoding, encoding_errors, dialect, on_bad_lines, delim_whitespace, low_memory, memory_map, float_precision, storage_options, dtype_backend)\u001b[0m\n\u001b[1;32m    910\u001b[0m     \u001b[0mkwds\u001b[0m\u001b[0;34m.\u001b[0m\u001b[0mupdate\u001b[0m\u001b[0;34m(\u001b[0m\u001b[0mkwds_defaults\u001b[0m\u001b[0;34m)\u001b[0m\u001b[0;34m\u001b[0m\u001b[0;34m\u001b[0m\u001b[0m\n\u001b[1;32m    911\u001b[0m \u001b[0;34m\u001b[0m\u001b[0m\n\u001b[0;32m--> 912\u001b[0;31m     \u001b[0;32mreturn\u001b[0m \u001b[0m_read\u001b[0m\u001b[0;34m(\u001b[0m\u001b[0mfilepath_or_buffer\u001b[0m\u001b[0;34m,\u001b[0m \u001b[0mkwds\u001b[0m\u001b[0;34m)\u001b[0m\u001b[0;34m\u001b[0m\u001b[0;34m\u001b[0m\u001b[0m\n\u001b[0m\u001b[1;32m    913\u001b[0m \u001b[0;34m\u001b[0m\u001b[0m\n\u001b[1;32m    914\u001b[0m \u001b[0;34m\u001b[0m\u001b[0m\n",
            "\u001b[0;32m/usr/local/lib/python3.10/dist-packages/pandas/io/parsers/readers.py\u001b[0m in \u001b[0;36m_read\u001b[0;34m(filepath_or_buffer, kwds)\u001b[0m\n\u001b[1;32m    575\u001b[0m \u001b[0;34m\u001b[0m\u001b[0m\n\u001b[1;32m    576\u001b[0m     \u001b[0;31m# Create the parser.\u001b[0m\u001b[0;34m\u001b[0m\u001b[0;34m\u001b[0m\u001b[0m\n\u001b[0;32m--> 577\u001b[0;31m     \u001b[0mparser\u001b[0m \u001b[0;34m=\u001b[0m \u001b[0mTextFileReader\u001b[0m\u001b[0;34m(\u001b[0m\u001b[0mfilepath_or_buffer\u001b[0m\u001b[0;34m,\u001b[0m \u001b[0;34m**\u001b[0m\u001b[0mkwds\u001b[0m\u001b[0;34m)\u001b[0m\u001b[0;34m\u001b[0m\u001b[0;34m\u001b[0m\u001b[0m\n\u001b[0m\u001b[1;32m    578\u001b[0m \u001b[0;34m\u001b[0m\u001b[0m\n\u001b[1;32m    579\u001b[0m     \u001b[0;32mif\u001b[0m \u001b[0mchunksize\u001b[0m \u001b[0;32mor\u001b[0m \u001b[0miterator\u001b[0m\u001b[0;34m:\u001b[0m\u001b[0;34m\u001b[0m\u001b[0;34m\u001b[0m\u001b[0m\n",
            "\u001b[0;32m/usr/local/lib/python3.10/dist-packages/pandas/io/parsers/readers.py\u001b[0m in \u001b[0;36m__init__\u001b[0;34m(self, f, engine, **kwds)\u001b[0m\n\u001b[1;32m   1405\u001b[0m \u001b[0;34m\u001b[0m\u001b[0m\n\u001b[1;32m   1406\u001b[0m         \u001b[0mself\u001b[0m\u001b[0;34m.\u001b[0m\u001b[0mhandles\u001b[0m\u001b[0;34m:\u001b[0m \u001b[0mIOHandles\u001b[0m \u001b[0;34m|\u001b[0m \u001b[0;32mNone\u001b[0m \u001b[0;34m=\u001b[0m \u001b[0;32mNone\u001b[0m\u001b[0;34m\u001b[0m\u001b[0;34m\u001b[0m\u001b[0m\n\u001b[0;32m-> 1407\u001b[0;31m         \u001b[0mself\u001b[0m\u001b[0;34m.\u001b[0m\u001b[0m_engine\u001b[0m \u001b[0;34m=\u001b[0m \u001b[0mself\u001b[0m\u001b[0;34m.\u001b[0m\u001b[0m_make_engine\u001b[0m\u001b[0;34m(\u001b[0m\u001b[0mf\u001b[0m\u001b[0;34m,\u001b[0m \u001b[0mself\u001b[0m\u001b[0;34m.\u001b[0m\u001b[0mengine\u001b[0m\u001b[0;34m)\u001b[0m\u001b[0;34m\u001b[0m\u001b[0;34m\u001b[0m\u001b[0m\n\u001b[0m\u001b[1;32m   1408\u001b[0m \u001b[0;34m\u001b[0m\u001b[0m\n\u001b[1;32m   1409\u001b[0m     \u001b[0;32mdef\u001b[0m \u001b[0mclose\u001b[0m\u001b[0;34m(\u001b[0m\u001b[0mself\u001b[0m\u001b[0;34m)\u001b[0m \u001b[0;34m->\u001b[0m \u001b[0;32mNone\u001b[0m\u001b[0;34m:\u001b[0m\u001b[0;34m\u001b[0m\u001b[0;34m\u001b[0m\u001b[0m\n",
            "\u001b[0;32m/usr/local/lib/python3.10/dist-packages/pandas/io/parsers/readers.py\u001b[0m in \u001b[0;36m_make_engine\u001b[0;34m(self, f, engine)\u001b[0m\n\u001b[1;32m   1659\u001b[0m                 \u001b[0;32mif\u001b[0m \u001b[0;34m\"b\"\u001b[0m \u001b[0;32mnot\u001b[0m \u001b[0;32min\u001b[0m \u001b[0mmode\u001b[0m\u001b[0;34m:\u001b[0m\u001b[0;34m\u001b[0m\u001b[0;34m\u001b[0m\u001b[0m\n\u001b[1;32m   1660\u001b[0m                     \u001b[0mmode\u001b[0m \u001b[0;34m+=\u001b[0m \u001b[0;34m\"b\"\u001b[0m\u001b[0;34m\u001b[0m\u001b[0;34m\u001b[0m\u001b[0m\n\u001b[0;32m-> 1661\u001b[0;31m             self.handles = get_handle(\n\u001b[0m\u001b[1;32m   1662\u001b[0m                 \u001b[0mf\u001b[0m\u001b[0;34m,\u001b[0m\u001b[0;34m\u001b[0m\u001b[0;34m\u001b[0m\u001b[0m\n\u001b[1;32m   1663\u001b[0m                 \u001b[0mmode\u001b[0m\u001b[0;34m,\u001b[0m\u001b[0;34m\u001b[0m\u001b[0;34m\u001b[0m\u001b[0m\n",
            "\u001b[0;32m/usr/local/lib/python3.10/dist-packages/pandas/io/common.py\u001b[0m in \u001b[0;36mget_handle\u001b[0;34m(path_or_buf, mode, encoding, compression, memory_map, is_text, errors, storage_options)\u001b[0m\n\u001b[1;32m    857\u001b[0m         \u001b[0;32mif\u001b[0m \u001b[0mioargs\u001b[0m\u001b[0;34m.\u001b[0m\u001b[0mencoding\u001b[0m \u001b[0;32mand\u001b[0m \u001b[0;34m\"b\"\u001b[0m \u001b[0;32mnot\u001b[0m \u001b[0;32min\u001b[0m \u001b[0mioargs\u001b[0m\u001b[0;34m.\u001b[0m\u001b[0mmode\u001b[0m\u001b[0;34m:\u001b[0m\u001b[0;34m\u001b[0m\u001b[0;34m\u001b[0m\u001b[0m\n\u001b[1;32m    858\u001b[0m             \u001b[0;31m# Encoding\u001b[0m\u001b[0;34m\u001b[0m\u001b[0;34m\u001b[0m\u001b[0m\n\u001b[0;32m--> 859\u001b[0;31m             handle = open(\n\u001b[0m\u001b[1;32m    860\u001b[0m                 \u001b[0mhandle\u001b[0m\u001b[0;34m,\u001b[0m\u001b[0;34m\u001b[0m\u001b[0;34m\u001b[0m\u001b[0m\n\u001b[1;32m    861\u001b[0m                 \u001b[0mioargs\u001b[0m\u001b[0;34m.\u001b[0m\u001b[0mmode\u001b[0m\u001b[0;34m,\u001b[0m\u001b[0;34m\u001b[0m\u001b[0;34m\u001b[0m\u001b[0m\n",
            "\u001b[0;31mFileNotFoundError\u001b[0m: [Errno 2] No such file or directory: '/deliveries.csv'"
          ]
        }
      ]
    },
    {
      "cell_type": "markdown",
      "source": [
        "# **IPL 2008 - 2024 Data Analysis**"
      ],
      "metadata": {
        "id": "fD--WAKzPl7l"
      }
    },
    {
      "cell_type": "code",
      "source": [
        "matches.head()"
      ],
      "metadata": {
        "execution": {
          "iopub.status.busy": "2024-06-12T18:30:01.987928Z",
          "iopub.execute_input": "2024-06-12T18:30:01.988267Z",
          "iopub.status.idle": "2024-06-12T18:30:02.025525Z",
          "shell.execute_reply.started": "2024-06-12T18:30:01.988231Z",
          "shell.execute_reply": "2024-06-12T18:30:02.024298Z"
        },
        "trusted": true,
        "id": "4-1tsODQPl7l"
      },
      "execution_count": null,
      "outputs": []
    },
    {
      "cell_type": "code",
      "source": [
        "matches.info()"
      ],
      "metadata": {
        "execution": {
          "iopub.status.busy": "2024-06-12T18:30:02.028701Z",
          "iopub.execute_input": "2024-06-12T18:30:02.029116Z",
          "iopub.status.idle": "2024-06-12T18:30:02.060497Z",
          "shell.execute_reply.started": "2024-06-12T18:30:02.029077Z",
          "shell.execute_reply": "2024-06-12T18:30:02.059436Z"
        },
        "trusted": true,
        "id": "oVJXgER2Pl7l"
      },
      "execution_count": null,
      "outputs": []
    },
    {
      "cell_type": "code",
      "source": [
        "matches.describe()"
      ],
      "metadata": {
        "execution": {
          "iopub.status.busy": "2024-06-12T18:30:02.061742Z",
          "iopub.execute_input": "2024-06-12T18:30:02.062059Z",
          "iopub.status.idle": "2024-06-12T18:30:02.091225Z",
          "shell.execute_reply.started": "2024-06-12T18:30:02.062031Z",
          "shell.execute_reply": "2024-06-12T18:30:02.090109Z"
        },
        "trusted": true,
        "id": "T0IEoAaVPl7l"
      },
      "execution_count": null,
      "outputs": []
    },
    {
      "cell_type": "markdown",
      "source": [
        "### **Data Cleaning**"
      ],
      "metadata": {
        "id": "PJAGkMR6Pl7m"
      }
    },
    {
      "cell_type": "code",
      "source": [
        "# Drop rows with missing values in the 'winner' column\n",
        "matches = matches.dropna(subset=['winner'])"
      ],
      "metadata": {
        "execution": {
          "iopub.status.busy": "2024-06-12T18:30:02.092835Z",
          "iopub.execute_input": "2024-06-12T18:30:02.093302Z",
          "iopub.status.idle": "2024-06-12T18:30:02.104885Z",
          "shell.execute_reply.started": "2024-06-12T18:30:02.093261Z",
          "shell.execute_reply": "2024-06-12T18:30:02.104002Z"
        },
        "trusted": true,
        "id": "PAXFp96NPl7m"
      },
      "execution_count": null,
      "outputs": []
    },
    {
      "cell_type": "code",
      "source": [
        "# Impute missing valuse in 'player_of_match'\n",
        "matches['player_of_match'] = matches['player_of_match'].fillna('Unknown')"
      ],
      "metadata": {
        "execution": {
          "iopub.status.busy": "2024-06-12T18:30:02.106285Z",
          "iopub.execute_input": "2024-06-12T18:30:02.106688Z",
          "iopub.status.idle": "2024-06-12T18:30:02.113935Z",
          "shell.execute_reply.started": "2024-06-12T18:30:02.106654Z",
          "shell.execute_reply": "2024-06-12T18:30:02.112987Z"
        },
        "trusted": true,
        "id": "21sTrVfgPl7m"
      },
      "execution_count": null,
      "outputs": []
    },
    {
      "cell_type": "code",
      "source": [
        "# Drop unwanted columns from the dataset\n",
        "matches.drop(['id', 'city', 'method'], axis=1, inplace=True)"
      ],
      "metadata": {
        "execution": {
          "iopub.status.busy": "2024-06-12T18:30:02.115154Z",
          "iopub.execute_input": "2024-06-12T18:30:02.115494Z",
          "iopub.status.idle": "2024-06-12T18:30:02.124666Z",
          "shell.execute_reply.started": "2024-06-12T18:30:02.115467Z",
          "shell.execute_reply": "2024-06-12T18:30:02.123621Z"
        },
        "trusted": true,
        "id": "XOrCK35uPl7m"
      },
      "execution_count": null,
      "outputs": []
    },
    {
      "cell_type": "code",
      "source": [
        "import matplotlib.pyplot as plt\n",
        "\n",
        "columns_to_handle_missing = ['result_margin', 'target_runs', 'target_overs']\n",
        "\n",
        "# Plot box plots for each column\n",
        "plt.figure(figsize=(5, 6))\n",
        "matches[columns_to_handle_missing].boxplot()\n",
        "plt.title('Box plot of columns with missing values')\n",
        "plt.ylabel('Values')\n",
        "plt.xticks(rotation=45)\n",
        "plt.show()"
      ],
      "metadata": {
        "execution": {
          "iopub.status.busy": "2024-06-12T18:30:02.125861Z",
          "iopub.execute_input": "2024-06-12T18:30:02.126179Z",
          "iopub.status.idle": "2024-06-12T18:30:02.4636Z",
          "shell.execute_reply.started": "2024-06-12T18:30:02.126147Z",
          "shell.execute_reply": "2024-06-12T18:30:02.462554Z"
        },
        "trusted": true,
        "id": "HJQAvsVmPl7n"
      },
      "execution_count": null,
      "outputs": []
    },
    {
      "cell_type": "code",
      "source": [
        "# Inpute selected columns with median because they have outliers\n",
        "\n",
        "matches['result_margin'] = matches['result_margin'].fillna(matches['result_margin'].median())\n",
        "matches['target_runs'] = matches['target_runs'].fillna(matches['target_runs'].median())\n",
        "matches['target_overs'] = matches['target_overs'].fillna(matches['target_overs'].median())"
      ],
      "metadata": {
        "execution": {
          "iopub.status.busy": "2024-06-12T18:30:02.468712Z",
          "iopub.execute_input": "2024-06-12T18:30:02.469088Z",
          "iopub.status.idle": "2024-06-12T18:30:02.478738Z",
          "shell.execute_reply.started": "2024-06-12T18:30:02.469054Z",
          "shell.execute_reply": "2024-06-12T18:30:02.477627Z"
        },
        "trusted": true,
        "id": "zZRQOGpmPl7n"
      },
      "execution_count": null,
      "outputs": []
    },
    {
      "cell_type": "code",
      "source": [
        "matches.info()"
      ],
      "metadata": {
        "execution": {
          "iopub.status.busy": "2024-06-12T18:30:02.480106Z",
          "iopub.execute_input": "2024-06-12T18:30:02.480549Z",
          "iopub.status.idle": "2024-06-12T18:30:02.507326Z",
          "shell.execute_reply.started": "2024-06-12T18:30:02.480509Z",
          "shell.execute_reply": "2024-06-12T18:30:02.506229Z"
        },
        "trusted": true,
        "id": "ZI3BJSxvPl7n"
      },
      "execution_count": null,
      "outputs": []
    },
    {
      "cell_type": "code",
      "source": [
        "matches.nunique()"
      ],
      "metadata": {
        "execution": {
          "iopub.status.busy": "2024-06-12T18:30:02.508878Z",
          "iopub.execute_input": "2024-06-12T18:30:02.509359Z",
          "iopub.status.idle": "2024-06-12T18:30:02.526424Z",
          "shell.execute_reply.started": "2024-06-12T18:30:02.50929Z",
          "shell.execute_reply": "2024-06-12T18:30:02.525184Z"
        },
        "trusted": true,
        "id": "cmw4fjkkPl7n"
      },
      "execution_count": null,
      "outputs": []
    },
    {
      "cell_type": "markdown",
      "source": [
        "### **Feature Engineering**"
      ],
      "metadata": {
        "id": "W2R8jxnPPl7n"
      }
    }
  ]
}